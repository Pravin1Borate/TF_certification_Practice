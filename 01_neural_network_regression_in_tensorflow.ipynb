{
  "nbformat": 4,
  "nbformat_minor": 0,
  "metadata": {
    "colab": {
      "name": "01_neural_network_regression_in_tensorflow.ipynb",
      "provenance": [],
      "authorship_tag": "ABX9TyMBMRqBdtfgFc4QHR38VDbd",
      "include_colab_link": true
    },
    "kernelspec": {
      "display_name": "Python 3",
      "name": "python3"
    },
    "language_info": {
      "name": "python"
    },
    "accelerator": "GPU"
  },
  "cells": [
    {
      "cell_type": "markdown",
      "metadata": {
        "id": "view-in-github",
        "colab_type": "text"
      },
      "source": [
        "<a href=\"https://colab.research.google.com/github/Pravin1Borate/TF_certification_Practice/blob/main/01_neural_network_regression_in_tensorflow.ipynb\" target=\"_parent\"><img src=\"https://colab.research.google.com/assets/colab-badge.svg\" alt=\"Open In Colab\"/></a>"
      ]
    },
    {
      "cell_type": "markdown",
      "metadata": {
        "id": "KjzZHnsSpEXe"
      },
      "source": [
        "## Introduction to Regression with Neural Networks in Tensorflow"
      ]
    },
    {
      "cell_type": "code",
      "metadata": {
        "colab": {
          "base_uri": "https://localhost:8080/"
        },
        "id": "qeugxKgstL3K",
        "outputId": "7d9d4100-2a93-48e0-9459-5a57b0868ef6"
      },
      "source": [
        "# Import tensorflow\n",
        "import tensorflow as tf\n",
        "print(tf.__version__)"
      ],
      "execution_count": 1,
      "outputs": [
        {
          "output_type": "stream",
          "text": [
            "2.5.0\n"
          ],
          "name": "stdout"
        }
      ]
    },
    {
      "cell_type": "code",
      "metadata": {
        "colab": {
          "base_uri": "https://localhost:8080/",
          "height": 286
        },
        "id": "aJeZQwLitXqA",
        "outputId": "d2745171-c5b7-4461-9c5e-c2ae57d6e0fc"
      },
      "source": [
        "## Creating data to view and fit\n",
        "import numpy as np\n",
        "import matplotlib.pyplot as plt\n",
        "\n",
        "\n",
        "\n",
        "# Create features\n",
        "X = np.array([-7.0, -4.0, -1.0, 2.0, 5.0, 8.0, 11.0, 14.0])\n",
        "\n",
        "# Create labels\n",
        "y = np.array([3.0, 6.0, 9.0, 12.0, 15.0, 18.0, 21.0, 24.0])\n",
        "\n",
        "plt.scatter(X,y)"
      ],
      "execution_count": 2,
      "outputs": [
        {
          "output_type": "execute_result",
          "data": {
            "text/plain": [
              "<matplotlib.collections.PathCollection at 0x7f20305cbd10>"
            ]
          },
          "metadata": {
            "tags": []
          },
          "execution_count": 2
        },
        {
          "output_type": "display_data",
          "data": {
            "image/png": "[encoded data removed]",
            "text/plain": [
              "<Figure size 432x288 with 1 Axes>"
            ]
          },
          "metadata": {
            "tags": [],
            "needs_background": "light"
          }
        }
      ]
    },
    {
      "cell_type": "markdown",
      "metadata": {
        "id": "HP3ToTLouU_l"
      },
      "source": [
        "## Input and O/p Shape"
      ]
    },
    {
      "cell_type": "code",
      "metadata": {
        "colab": {
          "base_uri": "https://localhost:8080/"
        },
        "id": "LzmnHAoAuKtz",
        "outputId": "cb2a8615-3a81-44f5-9ba9-34dfab7126ea"
      },
      "source": [
        "input_shape = X.shape\n",
        "output_shape = y.shape\n",
        "input_shape , output_shape"
      ],
      "execution_count": 3,
      "outputs": [
        {
          "output_type": "execute_result",
          "data": {
            "text/plain": [
              "((8,), (8,))"
            ]
          },
          "metadata": {
            "tags": []
          },
          "execution_count": 3
        }
      ]
    },
    {
      "cell_type": "code",
      "metadata": {
        "colab": {
          "base_uri": "https://localhost:8080/"
        },
        "id": "wPxwoEaxutf4",
        "outputId": "9565210d-58ef-4f27-f487-043418639d9e"
      },
      "source": [
        "X[1],y[2]"
      ],
      "execution_count": 4,
      "outputs": [
        {
          "output_type": "execute_result",
          "data": {
            "text/plain": [
              "(-4.0, 9.0)"
            ]
          },
          "metadata": {
            "tags": []
          },
          "execution_count": 4
        }
      ]
    },
    {
      "cell_type": "code",
      "metadata": {
        "colab": {
          "base_uri": "https://localhost:8080/"
        },
        "id": "PxdgvLDYu-jH",
        "outputId": "8e746caa-975f-4b15-afec-ed964b5dfd92"
      },
      "source": [
        "# Turn Numpy arrays into tensors\n",
        "X = tf.constant(X)\n",
        "y = tf.constant(y)\n",
        "\n",
        "X.shape, y.shape"
      ],
      "execution_count": 5,
      "outputs": [
        {
          "output_type": "execute_result",
          "data": {
            "text/plain": [
              "(TensorShape([8]), TensorShape([8]))"
            ]
          },
          "metadata": {
            "tags": []
          },
          "execution_count": 5
        }
      ]
    },
    {
      "cell_type": "code",
      "metadata": {
        "colab": {
          "base_uri": "https://localhost:8080/"
        },
        "id": "gL1C3tkUvUl7",
        "outputId": "da8e2db6-d554-46cc-9005-424df587648e"
      },
      "source": [
        "input_shape = X[0].shape\n",
        "output_shape = y[0].shape\n",
        "\n",
        "input_shape,output_shape"
      ],
      "execution_count": 6,
      "outputs": [
        {
          "output_type": "execute_result",
          "data": {
            "text/plain": [
              "(TensorShape([]), TensorShape([]))"
            ]
          },
          "metadata": {
            "tags": []
          },
          "execution_count": 6
        }
      ]
    },
    {
      "cell_type": "markdown",
      "metadata": {
        "id": "hqtmCmnovXYx"
      },
      "source": [
        "## Steps in modelling with Tensorflow\n",
        "\n",
        "1. **Creating model** - define input and output layers , as well as the hidden layers of deep learning\n",
        "2. **compile the model** - define the loss function (in other words the function which tells our model how wrong it is.) and optimizer (tells our model how to imporve the patterns its learning) and evaluation matrix(what we can use to interpret the performace of our model.)\n",
        "3. **Fitting the model** - letting the model try to find patterns between X & y (feature and labels)\n",
        "\n",
        "![1.png](data:image/png;base64,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)"
      ]
    },
    {
      "cell_type": "code",
      "metadata": {
        "colab": {
          "base_uri": "https://localhost:8080/"
        },
        "id": "_3EsfucbwSu1",
        "outputId": "015ca3bf-8bf6-42c8-da2e-ccbe86ff664f"
      },
      "source": [
        "## Set Random seed\n",
        "tf.random.set_seed(42)\n",
        "\n",
        "# 1. create model using sequential API\n",
        "model = tf.keras.Sequential([\n",
        "                             tf.keras.layers.Dense(1)\n",
        "])\n",
        "\n",
        "# 2. Compile the model\n",
        "model.compile(loss=tf.keras.losses.mae, # Mean absolute Error\n",
        "              optimizer = tf.keras.optimizers.SGD(),\n",
        "              metrics=[\"mae\"])\n",
        "\n",
        "# 3. Fit the model\n",
        "model.fit(X,y,\n",
        "          epochs=5,\n",
        "          verbose=1)"
      ],
      "execution_count": 7,
      "outputs": [
        {
          "output_type": "stream",
          "text": [
            "Epoch 1/5\n",
            "1/1 [==============================] - 0s 470ms/step - loss: 11.5048 - mae: 11.5048\n",
            "Epoch 2/5\n",
            "1/1 [==============================] - 0s 7ms/step - loss: 11.3723 - mae: 11.3723\n",
            "Epoch 3/5\n",
            "1/1 [==============================] - 0s 5ms/step - loss: 11.2398 - mae: 11.2398\n",
            "Epoch 4/5\n",
            "1/1 [==============================] - 0s 4ms/step - loss: 11.1073 - mae: 11.1073\n",
            "Epoch 5/5\n",
            "1/1 [==============================] - 0s 6ms/step - loss: 10.9748 - mae: 10.9748\n"
          ],
          "name": "stdout"
        },
        {
          "output_type": "execute_result",
          "data": {
            "text/plain": [
              "<tensorflow.python.keras.callbacks.History at 0x7f2030dc8c50>"
            ]
          },
          "metadata": {
            "tags": []
          },
          "execution_count": 7
        }
      ]
    },
    {
      "cell_type": "code",
      "metadata": {
        "colab": {
          "base_uri": "https://localhost:8080/"
        },
        "id": "VCre2QNg-VHK",
        "outputId": "834a8ca8-5601-4384-d9b6-acb37cd34988"
      },
      "source": [
        "X,y"
      ],
      "execution_count": 8,
      "outputs": [
        {
          "output_type": "execute_result",
          "data": {
            "text/plain": [
              "(<tf.Tensor: shape=(8,), dtype=float64, numpy=array([-7., -4., -1.,  2.,  5.,  8., 11., 14.])>,\n",
              " <tf.Tensor: shape=(8,), dtype=float64, numpy=array([ 3.,  6.,  9., 12., 15., 18., 21., 24.])>)"
            ]
          },
          "metadata": {
            "tags": []
          },
          "execution_count": 8
        }
      ]
    },
    {
      "cell_type": "code",
      "metadata": {
        "colab": {
          "base_uri": "https://localhost:8080/"
        },
        "id": "NXO6iEb36xZr",
        "outputId": "350bb8c2-dce9-4454-ef40-9639702d34f9"
      },
      "source": [
        "model.predict([15])"
      ],
      "execution_count": 9,
      "outputs": [
        {
          "output_type": "execute_result",
          "data": {
            "text/plain": [
              "array([[11.225901]], dtype=float32)"
            ]
          },
          "metadata": {
            "tags": []
          },
          "execution_count": 9
        }
      ]
    },
    {
      "cell_type": "markdown",
      "metadata": {
        "id": "GUCoZLFB-IJH"
      },
      "source": [
        "## Improve the model\n",
        "\n",
        "We can imporve the model , by altering the steps we took to create model.\n",
        "\n",
        "1. **Creating the model :** Here we might add more dense layers, Increase number of hidden layers, within each of hidden layers, change the activation function of each layers.\n",
        "2. **Compiling a model :** Here we might chane the optimization function or perhaps the **learning rate** of the optimization function .\n",
        "3. **Fitting the model :**  By changing number of ephocs."
      ]
    },
    {
      "cell_type": "markdown",
      "metadata": {
        "id": "62PjAskm8Nr6"
      },
      "source": [
        "## Let's rebuild our model"
      ]
    },
    {
      "cell_type": "code",
      "metadata": {
        "colab": {
          "base_uri": "https://localhost:8080/"
        },
        "id": "skQU2dM98Z2Z",
        "outputId": "28739fbc-8a33-478c-f927-9c2b4aaf0c3f"
      },
      "source": [
        "#1. Create the model\n",
        "\n",
        "model = tf.keras.Sequential(\n",
        "    [tf.keras.layers.Dense(1)\n",
        "])\n",
        "\n",
        "#2. compile the model\n",
        "model.compile(loss=tf.keras.losses.mae,\n",
        "              optimizer=tf.keras.optimizers.SGD(),\n",
        "              metrics=['mae'])\n",
        "\n",
        "# Fit the model\n",
        "model.fit(X,y,epochs=100,verbose=1)"
      ],
      "execution_count": 10,
      "outputs": [
        {
          "output_type": "stream",
          "text": [
            "Epoch 1/100\n",
            "1/1 [==============================] - 0s 235ms/step - loss: 11.2219 - mae: 11.2219\n",
            "Epoch 2/100\n",
            "1/1 [==============================] - 0s 6ms/step - loss: 11.0894 - mae: 11.0894\n",
            "Epoch 3/100\n",
            "1/1 [==============================] - 0s 4ms/step - loss: 10.9569 - mae: 10.9569\n",
            "Epoch 4/100\n",
            "1/1 [==============================] - 0s 6ms/step - loss: 10.8244 - mae: 10.8244\n",
            "Epoch 5/100\n",
            "1/1 [==============================] - 0s 5ms/step - loss: 10.6919 - mae: 10.6919\n",
            "Epoch 6/100\n",
            "1/1 [==============================] - 0s 5ms/step - loss: 10.5594 - mae: 10.5594\n",
            "Epoch 7/100\n",
            "1/1 [==============================] - 0s 11ms/step - loss: 10.4269 - mae: 10.4269\n",
            "Epoch 8/100\n",
            "1/1 [==============================] - 0s 4ms/step - loss: 10.2944 - mae: 10.2944\n",
            "Epoch 9/100\n",
            "1/1 [==============================] - 0s 7ms/step - loss: 10.1619 - mae: 10.1619\n",
            "Epoch 10/100\n",
            "1/1 [==============================] - 0s 5ms/step - loss: 10.0294 - mae: 10.0294\n",
            "Epoch 11/100\n",
            "1/1 [==============================] - 0s 5ms/step - loss: 9.8969 - mae: 9.8969\n",
            "Epoch 12/100\n",
            "1/1 [==============================] - 0s 5ms/step - loss: 9.7644 - mae: 9.7644\n",
            "Epoch 13/100\n",
            "1/1 [==============================] - 0s 5ms/step - loss: 9.6319 - mae: 9.6319\n",
            "Epoch 14/100\n",
            "1/1 [==============================] - 0s 4ms/step - loss: 9.4994 - mae: 9.4994\n",
            "Epoch 15/100\n",
            "1/1 [==============================] - 0s 7ms/step - loss: 9.3669 - mae: 9.3669\n",
            "Epoch 16/100\n",
            "1/1 [==============================] - 0s 4ms/step - loss: 9.2344 - mae: 9.2344\n",
            "Epoch 17/100\n",
            "1/1 [==============================] - 0s 4ms/step - loss: 9.1019 - mae: 9.1019\n",
            "Epoch 18/100\n",
            "1/1 [==============================] - 0s 8ms/step - loss: 8.9694 - mae: 8.9694\n",
            "Epoch 19/100\n",
            "1/1 [==============================] - 0s 5ms/step - loss: 8.8369 - mae: 8.8369\n",
            "Epoch 20/100\n",
            "1/1 [==============================] - 0s 4ms/step - loss: 8.7044 - mae: 8.7044\n",
            "Epoch 21/100\n",
            "1/1 [==============================] - 0s 4ms/step - loss: 8.5719 - mae: 8.5719\n",
            "Epoch 22/100\n",
            "1/1 [==============================] - 0s 7ms/step - loss: 8.4394 - mae: 8.4394\n",
            "Epoch 23/100\n",
            "1/1 [==============================] - 0s 4ms/step - loss: 8.3069 - mae: 8.3069\n",
            "Epoch 24/100\n",
            "1/1 [==============================] - 0s 4ms/step - loss: 8.1744 - mae: 8.1744\n",
            "Epoch 25/100\n",
            "1/1 [==============================] - 0s 5ms/step - loss: 8.0419 - mae: 8.0419\n",
            "Epoch 26/100\n",
            "1/1 [==============================] - 0s 5ms/step - loss: 7.9094 - mae: 7.9094\n",
            "Epoch 27/100\n",
            "1/1 [==============================] - 0s 4ms/step - loss: 7.7769 - mae: 7.7769\n",
            "Epoch 28/100\n",
            "1/1 [==============================] - 0s 5ms/step - loss: 7.6444 - mae: 7.6444\n",
            "Epoch 29/100\n",
            "1/1 [==============================] - 0s 5ms/step - loss: 7.5119 - mae: 7.5119\n",
            "Epoch 30/100\n",
            "1/1 [==============================] - 0s 5ms/step - loss: 7.3794 - mae: 7.3794\n",
            "Epoch 31/100\n",
            "1/1 [==============================] - 0s 7ms/step - loss: 7.2750 - mae: 7.2750\n",
            "Epoch 32/100\n",
            "1/1 [==============================] - 0s 5ms/step - loss: 7.2694 - mae: 7.2694\n",
            "Epoch 33/100\n",
            "1/1 [==============================] - 0s 4ms/step - loss: 7.2638 - mae: 7.2638\n",
            "Epoch 34/100\n",
            "1/1 [==============================] - 0s 7ms/step - loss: 7.2581 - mae: 7.2581\n",
            "Epoch 35/100\n",
            "1/1 [==============================] - 0s 4ms/step - loss: 7.2525 - mae: 7.2525\n",
            "Epoch 36/100\n",
            "1/1 [==============================] - 0s 7ms/step - loss: 7.2469 - mae: 7.2469\n",
            "Epoch 37/100\n",
            "1/1 [==============================] - 0s 4ms/step - loss: 7.2412 - mae: 7.2412\n",
            "Epoch 38/100\n",
            "1/1 [==============================] - 0s 5ms/step - loss: 7.2356 - mae: 7.2356\n",
            "Epoch 39/100\n",
            "1/1 [==============================] - 0s 4ms/step - loss: 7.2300 - mae: 7.2300\n",
            "Epoch 40/100\n",
            "1/1 [==============================] - 0s 6ms/step - loss: 7.2244 - mae: 7.2244\n",
            "Epoch 41/100\n",
            "1/1 [==============================] - 0s 5ms/step - loss: 7.2188 - mae: 7.2188\n",
            "Epoch 42/100\n",
            "1/1 [==============================] - 0s 5ms/step - loss: 7.2131 - mae: 7.2131\n",
            "Epoch 43/100\n",
            "1/1 [==============================] - 0s 6ms/step - loss: 7.2075 - mae: 7.2075\n",
            "Epoch 44/100\n",
            "1/1 [==============================] - 0s 4ms/step - loss: 7.2019 - mae: 7.2019\n",
            "Epoch 45/100\n",
            "1/1 [==============================] - 0s 6ms/step - loss: 7.1962 - mae: 7.1962\n",
            "Epoch 46/100\n",
            "1/1 [==============================] - 0s 5ms/step - loss: 7.1906 - mae: 7.1906\n",
            "Epoch 47/100\n",
            "1/1 [==============================] - 0s 6ms/step - loss: 7.1850 - mae: 7.1850\n",
            "Epoch 48/100\n",
            "1/1 [==============================] - 0s 6ms/step - loss: 7.1794 - mae: 7.1794\n",
            "Epoch 49/100\n",
            "1/1 [==============================] - 0s 5ms/step - loss: 7.1737 - mae: 7.1737\n",
            "Epoch 50/100\n",
            "1/1 [==============================] - 0s 4ms/step - loss: 7.1681 - mae: 7.1681\n",
            "Epoch 51/100\n",
            "1/1 [==============================] - 0s 7ms/step - loss: 7.1625 - mae: 7.1625\n",
            "Epoch 52/100\n",
            "1/1 [==============================] - 0s 5ms/step - loss: 7.1569 - mae: 7.1569\n",
            "Epoch 53/100\n",
            "1/1 [==============================] - 0s 7ms/step - loss: 7.1512 - mae: 7.1512\n",
            "Epoch 54/100\n",
            "1/1 [==============================] - 0s 7ms/step - loss: 7.1456 - mae: 7.1456\n",
            "Epoch 55/100\n",
            "1/1 [==============================] - 0s 8ms/step - loss: 7.1400 - mae: 7.1400\n",
            "Epoch 56/100\n",
            "1/1 [==============================] - 0s 5ms/step - loss: 7.1344 - mae: 7.1344\n",
            "Epoch 57/100\n",
            "1/1 [==============================] - 0s 7ms/step - loss: 7.1287 - mae: 7.1287\n",
            "Epoch 58/100\n",
            "1/1 [==============================] - 0s 9ms/step - loss: 7.1231 - mae: 7.1231\n",
            "Epoch 59/100\n",
            "1/1 [==============================] - 0s 6ms/step - loss: 7.1175 - mae: 7.1175\n",
            "Epoch 60/100\n",
            "1/1 [==============================] - 0s 8ms/step - loss: 7.1119 - mae: 7.1119\n",
            "Epoch 61/100\n",
            "1/1 [==============================] - 0s 8ms/step - loss: 7.1062 - mae: 7.1062\n",
            "Epoch 62/100\n",
            "1/1 [==============================] - 0s 6ms/step - loss: 7.1006 - mae: 7.1006\n",
            "Epoch 63/100\n",
            "1/1 [==============================] - 0s 6ms/step - loss: 7.0950 - mae: 7.0950\n",
            "Epoch 64/100\n",
            "1/1 [==============================] - 0s 5ms/step - loss: 7.0894 - mae: 7.0894\n",
            "Epoch 65/100\n",
            "1/1 [==============================] - 0s 16ms/step - loss: 7.0838 - mae: 7.0838\n",
            "Epoch 66/100\n",
            "1/1 [==============================] - 0s 6ms/step - loss: 7.0781 - mae: 7.0781\n",
            "Epoch 67/100\n",
            "1/1 [==============================] - 0s 5ms/step - loss: 7.0725 - mae: 7.0725\n",
            "Epoch 68/100\n",
            "1/1 [==============================] - 0s 6ms/step - loss: 7.0669 - mae: 7.0669\n",
            "Epoch 69/100\n",
            "1/1 [==============================] - 0s 7ms/step - loss: 7.0613 - mae: 7.0613\n",
            "Epoch 70/100\n",
            "1/1 [==============================] - 0s 4ms/step - loss: 7.0556 - mae: 7.0556\n",
            "Epoch 71/100\n",
            "1/1 [==============================] - 0s 7ms/step - loss: 7.0500 - mae: 7.0500\n",
            "Epoch 72/100\n",
            "1/1 [==============================] - 0s 7ms/step - loss: 7.0444 - mae: 7.0444\n",
            "Epoch 73/100\n",
            "1/1 [==============================] - 0s 8ms/step - loss: 7.0388 - mae: 7.0388\n",
            "Epoch 74/100\n",
            "1/1 [==============================] - 0s 5ms/step - loss: 7.0331 - mae: 7.0331\n",
            "Epoch 75/100\n",
            "1/1 [==============================] - 0s 8ms/step - loss: 7.0275 - mae: 7.0275\n",
            "Epoch 76/100\n",
            "1/1 [==============================] - 0s 5ms/step - loss: 7.0219 - mae: 7.0219\n",
            "Epoch 77/100\n",
            "1/1 [==============================] - 0s 7ms/step - loss: 7.0163 - mae: 7.0163\n",
            "Epoch 78/100\n",
            "1/1 [==============================] - 0s 4ms/step - loss: 7.0106 - mae: 7.0106\n",
            "Epoch 79/100\n",
            "1/1 [==============================] - 0s 6ms/step - loss: 7.0050 - mae: 7.0050\n",
            "Epoch 80/100\n",
            "1/1 [==============================] - 0s 5ms/step - loss: 6.9994 - mae: 6.9994\n",
            "Epoch 81/100\n",
            "1/1 [==============================] - 0s 8ms/step - loss: 6.9938 - mae: 6.9938\n",
            "Epoch 82/100\n",
            "1/1 [==============================] - 0s 4ms/step - loss: 6.9881 - mae: 6.9881\n",
            "Epoch 83/100\n",
            "1/1 [==============================] - 0s 8ms/step - loss: 6.9825 - mae: 6.9825\n",
            "Epoch 84/100\n",
            "1/1 [==============================] - 0s 5ms/step - loss: 6.9769 - mae: 6.9769\n",
            "Epoch 85/100\n",
            "1/1 [==============================] - 0s 8ms/step - loss: 6.9713 - mae: 6.9713\n",
            "Epoch 86/100\n",
            "1/1 [==============================] - 0s 5ms/step - loss: 6.9656 - mae: 6.9656\n",
            "Epoch 87/100\n",
            "1/1 [==============================] - 0s 5ms/step - loss: 6.9600 - mae: 6.9600\n",
            "Epoch 88/100\n",
            "1/1 [==============================] - 0s 8ms/step - loss: 6.9544 - mae: 6.9544\n",
            "Epoch 89/100\n",
            "1/1 [==============================] - 0s 7ms/step - loss: 6.9488 - mae: 6.9488\n",
            "Epoch 90/100\n",
            "1/1 [==============================] - 0s 5ms/step - loss: 6.9431 - mae: 6.9431\n",
            "Epoch 91/100\n",
            "1/1 [==============================] - 0s 4ms/step - loss: 6.9375 - mae: 6.9375\n",
            "Epoch 92/100\n",
            "1/1 [==============================] - 0s 6ms/step - loss: 6.9319 - mae: 6.9319\n",
            "Epoch 93/100\n",
            "1/1 [==============================] - 0s 6ms/step - loss: 6.9263 - mae: 6.9263\n",
            "Epoch 94/100\n",
            "1/1 [==============================] - 0s 7ms/step - loss: 6.9206 - mae: 6.9206\n",
            "Epoch 95/100\n",
            "1/1 [==============================] - 0s 6ms/step - loss: 6.9150 - mae: 6.9150\n",
            "Epoch 96/100\n",
            "1/1 [==============================] - 0s 3ms/step - loss: 6.9094 - mae: 6.9094\n",
            "Epoch 97/100\n",
            "1/1 [==============================] - 0s 6ms/step - loss: 6.9038 - mae: 6.9038\n",
            "Epoch 98/100\n",
            "1/1 [==============================] - 0s 4ms/step - loss: 6.8981 - mae: 6.8981\n",
            "Epoch 99/100\n",
            "1/1 [==============================] - 0s 5ms/step - loss: 6.8925 - mae: 6.8925\n",
            "Epoch 100/100\n",
            "1/1 [==============================] - 0s 5ms/step - loss: 6.8869 - mae: 6.8869\n"
          ],
          "name": "stdout"
        },
        {
          "output_type": "execute_result",
          "data": {
            "text/plain": [
              "<tensorflow.python.keras.callbacks.History at 0x7f202a5f7d90>"
            ]
          },
          "metadata": {
            "tags": []
          },
          "execution_count": 10
        }
      ]
    },
    {
      "cell_type": "code",
      "metadata": {
        "colab": {
          "base_uri": "https://localhost:8080/"
        },
        "id": "BRexm21FAWAH",
        "outputId": "6f124434-9c6a-479c-8b8f-3327b282ead4"
      },
      "source": [
        "X,y"
      ],
      "execution_count": 11,
      "outputs": [
        {
          "output_type": "execute_result",
          "data": {
            "text/plain": [
              "(<tf.Tensor: shape=(8,), dtype=float64, numpy=array([-7., -4., -1.,  2.,  5.,  8., 11., 14.])>,\n",
              " <tf.Tensor: shape=(8,), dtype=float64, numpy=array([ 3.,  6.,  9., 12., 15., 18., 21., 24.])>)"
            ]
          },
          "metadata": {
            "tags": []
          },
          "execution_count": 11
        }
      ]
    },
    {
      "cell_type": "code",
      "metadata": {
        "colab": {
          "base_uri": "https://localhost:8080/"
        },
        "id": "Q6KqIW1w83md",
        "outputId": "bb6a8be0-2d93-4d47-d00b-acf8b80fbc00"
      },
      "source": [
        "model.predict([17.])"
      ],
      "execution_count": 12,
      "outputs": [
        {
          "output_type": "execute_result",
          "data": {
            "text/plain": [
              "array([[29.739855]], dtype=float32)"
            ]
          },
          "metadata": {
            "tags": []
          },
          "execution_count": 12
        }
      ]
    },
    {
      "cell_type": "markdown",
      "metadata": {
        "id": "tSGUoOza_TtU"
      },
      "source": [
        "## Common Ways to improve a deep model:\n",
        "\n",
        "1. Adding new layers\n",
        "2. increase the number of hidden units \n",
        "3. Change the activation function\n",
        "4. Change the optimization function\n",
        "5. change the learning rate\n",
        "6. Fitting on more data.\n",
        "7. Fitting for longer"
      ]
    },
    {
      "cell_type": "code",
      "metadata": {
        "colab": {
          "base_uri": "https://localhost:8080/"
        },
        "id": "OhE0Phmz9D5W",
        "outputId": "b6788022-8824-4d59-b221-4da608985fb4"
      },
      "source": [
        "#1. Create a model\n",
        "\n",
        "model = tf.keras.Sequential([\n",
        "        tf.keras.layers.Dense(100,activation='relu'),\n",
        "        tf.keras.layers.Dense(1)\n",
        "])\n",
        "\n",
        "# 2. Compile the model\n",
        "\n",
        "model.compile(loss=tf.keras.losses.mae,\n",
        "              optimizer= tf.keras.optimizers.Adam(lr=0.01),\n",
        "              metrics=['mae'])\n",
        "\n",
        "# 3. Fitting the model\n",
        "model.fit(X,y,epochs=100,verbose=1)"
      ],
      "execution_count": 13,
      "outputs": [
        {
          "output_type": "stream",
          "text": [
            "/usr/local/lib/python3.7/dist-packages/tensorflow/python/keras/optimizer_v2/optimizer_v2.py:375: UserWarning: The `lr` argument is deprecated, use `learning_rate` instead.\n",
            "  \"The `lr` argument is deprecated, use `learning_rate` instead.\")\n"
          ],
          "name": "stderr"
        },
        {
          "output_type": "stream",
          "text": [
            "Epoch 1/100\n",
            "1/1 [==============================] - 0s 376ms/step - loss: 12.3193 - mae: 12.3193\n",
            "Epoch 2/100\n",
            "1/1 [==============================] - 0s 8ms/step - loss: 11.5062 - mae: 11.5062\n",
            "Epoch 3/100\n",
            "1/1 [==============================] - 0s 12ms/step - loss: 10.6739 - mae: 10.6739\n",
            "Epoch 4/100\n",
            "1/1 [==============================] - 0s 4ms/step - loss: 9.8419 - mae: 9.8419\n",
            "Epoch 5/100\n",
            "1/1 [==============================] - 0s 13ms/step - loss: 8.9962 - mae: 8.9962\n",
            "Epoch 6/100\n",
            "1/1 [==============================] - 0s 4ms/step - loss: 8.1347 - mae: 8.1347\n",
            "Epoch 7/100\n",
            "1/1 [==============================] - 0s 11ms/step - loss: 7.4053 - mae: 7.4053\n",
            "Epoch 8/100\n",
            "1/1 [==============================] - 0s 11ms/step - loss: 6.6763 - mae: 6.6763\n",
            "Epoch 9/100\n",
            "1/1 [==============================] - 0s 10ms/step - loss: 5.9141 - mae: 5.9141\n",
            "Epoch 10/100\n",
            "1/1 [==============================] - 0s 3ms/step - loss: 5.1125 - mae: 5.1125\n",
            "Epoch 11/100\n",
            "1/1 [==============================] - 0s 6ms/step - loss: 4.2653 - mae: 4.2653\n",
            "Epoch 12/100\n",
            "1/1 [==============================] - 0s 9ms/step - loss: 3.8460 - mae: 3.8460\n",
            "Epoch 13/100\n",
            "1/1 [==============================] - 0s 4ms/step - loss: 3.9257 - mae: 3.9257\n",
            "Epoch 14/100\n",
            "1/1 [==============================] - 0s 5ms/step - loss: 4.0900 - mae: 4.0900\n",
            "Epoch 15/100\n",
            "1/1 [==============================] - 0s 7ms/step - loss: 4.4780 - mae: 4.4780\n",
            "Epoch 16/100\n",
            "1/1 [==============================] - 0s 6ms/step - loss: 4.7607 - mae: 4.7607\n",
            "Epoch 17/100\n",
            "1/1 [==============================] - 0s 10ms/step - loss: 4.9264 - mae: 4.9264\n",
            "Epoch 18/100\n",
            "1/1 [==============================] - 0s 8ms/step - loss: 4.9893 - mae: 4.9893\n",
            "Epoch 19/100\n",
            "1/1 [==============================] - 0s 6ms/step - loss: 4.9672 - mae: 4.9672\n",
            "Epoch 20/100\n",
            "1/1 [==============================] - 0s 5ms/step - loss: 4.8677 - mae: 4.8677\n",
            "Epoch 21/100\n",
            "1/1 [==============================] - 0s 5ms/step - loss: 4.7046 - mae: 4.7046\n",
            "Epoch 22/100\n",
            "1/1 [==============================] - 0s 5ms/step - loss: 4.4896 - mae: 4.4896\n",
            "Epoch 23/100\n",
            "1/1 [==============================] - 0s 5ms/step - loss: 4.2326 - mae: 4.2326\n",
            "Epoch 24/100\n",
            "1/1 [==============================] - 0s 6ms/step - loss: 3.9418 - mae: 3.9418\n",
            "Epoch 25/100\n",
            "1/1 [==============================] - 0s 5ms/step - loss: 3.7886 - mae: 3.7886\n",
            "Epoch 26/100\n",
            "1/1 [==============================] - 0s 5ms/step - loss: 3.6632 - mae: 3.6632\n",
            "Epoch 27/100\n",
            "1/1 [==============================] - 0s 5ms/step - loss: 3.5392 - mae: 3.5392\n",
            "Epoch 28/100\n",
            "1/1 [==============================] - 0s 5ms/step - loss: 3.5531 - mae: 3.5531\n",
            "Epoch 29/100\n",
            "1/1 [==============================] - 0s 5ms/step - loss: 3.6208 - mae: 3.6208\n",
            "Epoch 30/100\n",
            "1/1 [==============================] - 0s 6ms/step - loss: 3.6577 - mae: 3.6577\n",
            "Epoch 31/100\n",
            "1/1 [==============================] - 0s 6ms/step - loss: 3.7506 - mae: 3.7506\n",
            "Epoch 32/100\n",
            "1/1 [==============================] - 0s 4ms/step - loss: 3.7093 - mae: 3.7093\n",
            "Epoch 33/100\n",
            "1/1 [==============================] - 0s 6ms/step - loss: 3.5338 - mae: 3.5338\n",
            "Epoch 34/100\n",
            "1/1 [==============================] - 0s 6ms/step - loss: 3.4270 - mae: 3.4270\n",
            "Epoch 35/100\n",
            "1/1 [==============================] - 0s 7ms/step - loss: 3.3004 - mae: 3.3004\n",
            "Epoch 36/100\n",
            "1/1 [==============================] - 0s 4ms/step - loss: 3.1545 - mae: 3.1545\n",
            "Epoch 37/100\n",
            "1/1 [==============================] - 0s 4ms/step - loss: 3.0648 - mae: 3.0648\n",
            "Epoch 38/100\n",
            "1/1 [==============================] - 0s 5ms/step - loss: 3.0459 - mae: 3.0459\n",
            "Epoch 39/100\n",
            "1/1 [==============================] - 0s 5ms/step - loss: 3.0209 - mae: 3.0209\n",
            "Epoch 40/100\n",
            "1/1 [==============================] - 0s 6ms/step - loss: 3.0347 - mae: 3.0347\n",
            "Epoch 41/100\n",
            "1/1 [==============================] - 0s 6ms/step - loss: 2.9867 - mae: 2.9867\n",
            "Epoch 42/100\n",
            "1/1 [==============================] - 0s 7ms/step - loss: 2.8887 - mae: 2.8887\n",
            "Epoch 43/100\n",
            "1/1 [==============================] - 0s 4ms/step - loss: 2.8175 - mae: 2.8175\n",
            "Epoch 44/100\n",
            "1/1 [==============================] - 0s 6ms/step - loss: 2.7250 - mae: 2.7250\n",
            "Epoch 45/100\n",
            "1/1 [==============================] - 0s 4ms/step - loss: 2.6172 - mae: 2.6172\n",
            "Epoch 46/100\n",
            "1/1 [==============================] - 0s 12ms/step - loss: 2.5069 - mae: 2.5069\n",
            "Epoch 47/100\n",
            "1/1 [==============================] - 0s 7ms/step - loss: 2.4002 - mae: 2.4002\n",
            "Epoch 48/100\n",
            "1/1 [==============================] - 0s 4ms/step - loss: 2.2894 - mae: 2.2894\n",
            "Epoch 49/100\n",
            "1/1 [==============================] - 0s 6ms/step - loss: 2.1712 - mae: 2.1712\n",
            "Epoch 50/100\n",
            "1/1 [==============================] - 0s 6ms/step - loss: 2.0403 - mae: 2.0403\n",
            "Epoch 51/100\n",
            "1/1 [==============================] - 0s 7ms/step - loss: 1.9989 - mae: 1.9989\n",
            "Epoch 52/100\n",
            "1/1 [==============================] - 0s 9ms/step - loss: 1.8725 - mae: 1.8725\n",
            "Epoch 53/100\n",
            "1/1 [==============================] - 0s 8ms/step - loss: 1.7026 - mae: 1.7026\n",
            "Epoch 54/100\n",
            "1/1 [==============================] - 0s 7ms/step - loss: 1.5747 - mae: 1.5747\n",
            "Epoch 55/100\n",
            "1/1 [==============================] - 0s 6ms/step - loss: 1.4753 - mae: 1.4753\n",
            "Epoch 56/100\n",
            "1/1 [==============================] - 0s 24ms/step - loss: 1.3545 - mae: 1.3545\n",
            "Epoch 57/100\n",
            "1/1 [==============================] - 0s 4ms/step - loss: 1.2392 - mae: 1.2392\n",
            "Epoch 58/100\n",
            "1/1 [==============================] - 0s 6ms/step - loss: 1.0315 - mae: 1.0315\n",
            "Epoch 59/100\n",
            "1/1 [==============================] - 0s 7ms/step - loss: 0.8339 - mae: 0.8339\n",
            "Epoch 60/100\n",
            "1/1 [==============================] - 0s 7ms/step - loss: 0.6625 - mae: 0.6625\n",
            "Epoch 61/100\n",
            "1/1 [==============================] - 0s 6ms/step - loss: 0.5088 - mae: 0.5088\n",
            "Epoch 62/100\n",
            "1/1 [==============================] - 0s 7ms/step - loss: 0.3310 - mae: 0.3310\n",
            "Epoch 63/100\n",
            "1/1 [==============================] - 0s 9ms/step - loss: 0.3306 - mae: 0.3306\n",
            "Epoch 64/100\n",
            "1/1 [==============================] - 0s 7ms/step - loss: 0.3330 - mae: 0.3330\n",
            "Epoch 65/100\n",
            "1/1 [==============================] - 0s 5ms/step - loss: 0.2128 - mae: 0.2128\n",
            "Epoch 66/100\n",
            "1/1 [==============================] - 0s 8ms/step - loss: 0.6744 - mae: 0.6744\n",
            "Epoch 67/100\n",
            "1/1 [==============================] - 0s 6ms/step - loss: 0.6279 - mae: 0.6279\n",
            "Epoch 68/100\n",
            "1/1 [==============================] - 0s 6ms/step - loss: 0.6085 - mae: 0.6085\n",
            "Epoch 69/100\n",
            "1/1 [==============================] - 0s 6ms/step - loss: 0.7257 - mae: 0.7257\n",
            "Epoch 70/100\n",
            "1/1 [==============================] - 0s 7ms/step - loss: 0.6237 - mae: 0.6237\n",
            "Epoch 71/100\n",
            "1/1 [==============================] - 0s 8ms/step - loss: 0.3928 - mae: 0.3928\n",
            "Epoch 72/100\n",
            "1/1 [==============================] - 0s 5ms/step - loss: 0.5721 - mae: 0.5721\n",
            "Epoch 73/100\n",
            "1/1 [==============================] - 0s 9ms/step - loss: 0.6972 - mae: 0.6972\n",
            "Epoch 74/100\n",
            "1/1 [==============================] - 0s 5ms/step - loss: 0.4927 - mae: 0.4927\n",
            "Epoch 75/100\n",
            "1/1 [==============================] - 0s 5ms/step - loss: 0.5584 - mae: 0.5584\n",
            "Epoch 76/100\n",
            "1/1 [==============================] - 0s 5ms/step - loss: 0.5706 - mae: 0.5706\n",
            "Epoch 77/100\n",
            "1/1 [==============================] - 0s 7ms/step - loss: 0.4548 - mae: 0.4548\n",
            "Epoch 78/100\n",
            "1/1 [==============================] - 0s 5ms/step - loss: 0.2732 - mae: 0.2732\n",
            "Epoch 79/100\n",
            "1/1 [==============================] - 0s 7ms/step - loss: 0.6350 - mae: 0.6350\n",
            "Epoch 80/100\n",
            "1/1 [==============================] - 0s 4ms/step - loss: 0.7159 - mae: 0.7159\n",
            "Epoch 81/100\n",
            "1/1 [==============================] - 0s 6ms/step - loss: 0.4848 - mae: 0.4848\n",
            "Epoch 82/100\n",
            "1/1 [==============================] - 0s 6ms/step - loss: 0.1989 - mae: 0.1989\n",
            "Epoch 83/100\n",
            "1/1 [==============================] - 0s 5ms/step - loss: 0.3396 - mae: 0.3396\n",
            "Epoch 84/100\n",
            "1/1 [==============================] - 0s 7ms/step - loss: 0.2129 - mae: 0.2129\n",
            "Epoch 85/100\n",
            "1/1 [==============================] - 0s 5ms/step - loss: 0.3691 - mae: 0.3691\n",
            "Epoch 86/100\n",
            "1/1 [==============================] - 0s 9ms/step - loss: 0.4716 - mae: 0.4716\n",
            "Epoch 87/100\n",
            "1/1 [==============================] - 0s 11ms/step - loss: 0.3323 - mae: 0.3323\n",
            "Epoch 88/100\n",
            "1/1 [==============================] - 0s 8ms/step - loss: 0.2552 - mae: 0.2552\n",
            "Epoch 89/100\n",
            "1/1 [==============================] - 0s 6ms/step - loss: 0.3310 - mae: 0.3310\n",
            "Epoch 90/100\n",
            "1/1 [==============================] - 0s 8ms/step - loss: 0.2381 - mae: 0.2381\n",
            "Epoch 91/100\n",
            "1/1 [==============================] - 0s 6ms/step - loss: 0.2594 - mae: 0.2594\n",
            "Epoch 92/100\n",
            "1/1 [==============================] - 0s 8ms/step - loss: 0.2367 - mae: 0.2367\n",
            "Epoch 93/100\n",
            "1/1 [==============================] - 0s 7ms/step - loss: 0.1750 - mae: 0.1750\n",
            "Epoch 94/100\n",
            "1/1 [==============================] - 0s 7ms/step - loss: 0.2303 - mae: 0.2303\n",
            "Epoch 95/100\n",
            "1/1 [==============================] - 0s 6ms/step - loss: 0.1337 - mae: 0.1337\n",
            "Epoch 96/100\n",
            "1/1 [==============================] - 0s 7ms/step - loss: 0.1930 - mae: 0.1930\n",
            "Epoch 97/100\n",
            "1/1 [==============================] - 0s 5ms/step - loss: 0.1098 - mae: 0.1098\n",
            "Epoch 98/100\n",
            "1/1 [==============================] - 0s 6ms/step - loss: 0.2055 - mae: 0.2055\n",
            "Epoch 99/100\n",
            "1/1 [==============================] - 0s 7ms/step - loss: 0.1987 - mae: 0.1987\n",
            "Epoch 100/100\n",
            "1/1 [==============================] - 0s 5ms/step - loss: 0.2264 - mae: 0.2264\n"
          ],
          "name": "stdout"
        },
        {
          "output_type": "execute_result",
          "data": {
            "text/plain": [
              "<tensorflow.python.keras.callbacks.History at 0x7f2028d07b90>"
            ]
          },
          "metadata": {
            "tags": []
          },
          "execution_count": 13
        }
      ]
    },
    {
      "cell_type": "code",
      "metadata": {
        "colab": {
          "base_uri": "https://localhost:8080/"
        },
        "id": "v6IKrirT9l66",
        "outputId": "927a2c5c-32d5-4495-f6aa-c265c05a1ced"
      },
      "source": [
        "model.predict([17.])"
      ],
      "execution_count": 14,
      "outputs": [
        {
          "output_type": "execute_result",
          "data": {
            "text/plain": [
              "array([[27.159163]], dtype=float32)"
            ]
          },
          "metadata": {
            "tags": []
          },
          "execution_count": 14
        }
      ]
    },
    {
      "cell_type": "code",
      "metadata": {
        "colab": {
          "base_uri": "https://localhost:8080/"
        },
        "id": "lQfP8HRh9xA-",
        "outputId": "0f802399-099f-4144-ab17-969eafa0fd95"
      },
      "source": [
        "model.predict([11.])"
      ],
      "execution_count": 15,
      "outputs": [
        {
          "output_type": "execute_result",
          "data": {
            "text/plain": [
              "array([[21.038727]], dtype=float32)"
            ]
          },
          "metadata": {
            "tags": []
          },
          "execution_count": 15
        }
      ]
    },
    {
      "cell_type": "markdown",
      "metadata": {
        "id": "S6WVPhdr_1QF"
      },
      "source": [
        "## Evaluting a Model"
      ]
    },
    {
      "cell_type": "code",
      "metadata": {
        "colab": {
          "base_uri": "https://localhost:8080/"
        },
        "id": "CUQ6ZE5S-X5n",
        "outputId": "a69c56f6-b6bb-49ea-f3fa-f6dd9051704e"
      },
      "source": [
        "# make a bigger data set\n",
        "X = tf.range(-100,100,4)\n",
        "X"
      ],
      "execution_count": 16,
      "outputs": [
        {
          "output_type": "execute_result",
          "data": {
            "text/plain": [
              "<tf.Tensor: shape=(50,), dtype=int32, numpy=\n",
              "array([-100,  -96,  -92,  -88,  -84,  -80,  -76,  -72,  -68,  -64,  -60,\n",
              "        -56,  -52,  -48,  -44,  -40,  -36,  -32,  -28,  -24,  -20,  -16,\n",
              "        -12,   -8,   -4,    0,    4,    8,   12,   16,   20,   24,   28,\n",
              "         32,   36,   40,   44,   48,   52,   56,   60,   64,   68,   72,\n",
              "         76,   80,   84,   88,   92,   96], dtype=int32)>"
            ]
          },
          "metadata": {
            "tags": []
          },
          "execution_count": 16
        }
      ]
    },
    {
      "cell_type": "code",
      "metadata": {
        "colab": {
          "base_uri": "https://localhost:8080/"
        },
        "id": "u0vj26OJCrUu",
        "outputId": "3ae17254-9123-44ed-efbc-e6f9601dd574"
      },
      "source": [
        "# Make lables to X\n",
        "y = X + 10\n",
        "y"
      ],
      "execution_count": 17,
      "outputs": [
        {
          "output_type": "execute_result",
          "data": {
            "text/plain": [
              "<tf.Tensor: shape=(50,), dtype=int32, numpy=\n",
              "array([-90, -86, -82, -78, -74, -70, -66, -62, -58, -54, -50, -46, -42,\n",
              "       -38, -34, -30, -26, -22, -18, -14, -10,  -6,  -2,   2,   6,  10,\n",
              "        14,  18,  22,  26,  30,  34,  38,  42,  46,  50,  54,  58,  62,\n",
              "        66,  70,  74,  78,  82,  86,  90,  94,  98, 102, 106], dtype=int32)>"
            ]
          },
          "metadata": {
            "tags": []
          },
          "execution_count": 17
        }
      ]
    },
    {
      "cell_type": "code",
      "metadata": {
        "colab": {
          "base_uri": "https://localhost:8080/",
          "height": 0
        },
        "id": "2RoiwMGICw_k",
        "outputId": "9e12ce35-fd94-433a-d8ed-a8c41b6f146c"
      },
      "source": [
        "plt.scatter(X,y)\n",
        "plt.plot(X,y,color='r');"
      ],
      "execution_count": 18,
      "outputs": [
        {
          "output_type": "display_data",
          "data": {
            "image/png": "[encoded data removed]",
            "text/plain": [
              "<Figure size 432x288 with 1 Axes>"
            ]
          },
          "metadata": {
            "tags": [],
            "needs_background": "light"
          }
        }
      ]
    },
    {
      "cell_type": "markdown",
      "metadata": {
        "id": "DHseI8bmC06k"
      },
      "source": [
        "## Split the dataset into 3 dataset\n",
        "\n",
        "* **Training set :** The model learns from this data,which is typically 70-80%  of the total data that you have available.\n",
        "* **Validation set :** The model gets turned on this data, which is typically 10-15% of the data available.\n",
        "* **Testign set :** The model get evaluated on this data to rest what is has learned, this set is typically 10-15% of the total data available."
      ]
    },
    {
      "cell_type": "code",
      "metadata": {
        "colab": {
          "base_uri": "https://localhost:8080/"
        },
        "id": "LQVqTyXgD9a2",
        "outputId": "88b3c2fb-7914-4718-9943-291e19124f2a"
      },
      "source": [
        "# check the length of how many samples we have\n",
        "len(X)"
      ],
      "execution_count": 19,
      "outputs": [
        {
          "output_type": "execute_result",
          "data": {
            "text/plain": [
              "50"
            ]
          },
          "metadata": {
            "tags": []
          },
          "execution_count": 19
        }
      ]
    },
    {
      "cell_type": "code",
      "metadata": {
        "colab": {
          "base_uri": "https://localhost:8080/"
        },
        "id": "cpze-RDQEWMy",
        "outputId": "dd851135-1c19-460f-9174-7d0dfacaae75"
      },
      "source": [
        "# Split data set into train and test dataset\n",
        "X_train = X[:40]\n",
        "y_train = y[:40]\n",
        "X_test = X[40:] \n",
        "y_test = y[40:] \n",
        "\n",
        "X_train.shape,y_train.shape,X_test.shape,y_test.shape"
      ],
      "execution_count": 20,
      "outputs": [
        {
          "output_type": "execute_result",
          "data": {
            "text/plain": [
              "(TensorShape([40]), TensorShape([40]), TensorShape([10]), TensorShape([10]))"
            ]
          },
          "metadata": {
            "tags": []
          },
          "execution_count": 20
        }
      ]
    },
    {
      "cell_type": "markdown",
      "metadata": {
        "id": "CI26YGFsEtgC"
      },
      "source": [
        "## Visualizing the data\n",
        "\n",
        "Now we've got our data in training and test sets....let's visualize it again\n"
      ]
    },
    {
      "cell_type": "code",
      "metadata": {
        "colab": {
          "base_uri": "https://localhost:8080/",
          "height": 0
        },
        "id": "3xtBp8BOFgTb",
        "outputId": "1c7bae39-d1fd-4dd8-bbff-92adae945c4f"
      },
      "source": [
        "# plt.figure(figsize=(10,7))\n",
        "# Plot the training data in blue\n",
        "plt.scatter(X_train,y_train,c='b',label='Training Data')\n",
        "# Plot the testing data in green\n",
        "plt.scatter(X_test,y_test,c='g',label='Testing Data')\n",
        "# Show a legend\n",
        "plt.legend();"
      ],
      "execution_count": 21,
      "outputs": [
        {
          "output_type": "display_data",
          "data": {
            "image/png": "[encoded data removed]",
            "text/plain": [
              "<Figure size 432x288 with 1 Axes>"
            ]
          },
          "metadata": {
            "tags": [],
            "needs_background": "light"
          }
        }
      ]
    },
    {
      "cell_type": "code",
      "metadata": {
        "id": "VCSB-9a1F3e9"
      },
      "source": [
        "# Let's build a neural network for our data\n",
        "\n",
        "# 1. Create a model\n",
        "\n",
        "model = tf.keras.Sequential([\n",
        "                             tf.keras.layers.Dense(1)\n",
        "])\n",
        "\n",
        "# 2. compile the model\n",
        "model.compile(loss=tf.keras.losses.mae,\n",
        "              optimizer=tf.keras.optimizers.SGD(),\n",
        "              metrics=['mae'])\n",
        "# 3. Fitting the model\n",
        "# model.fit(X_train,y_train,epochs=100, verbose=1)"
      ],
      "execution_count": 22,
      "outputs": []
    },
    {
      "cell_type": "code",
      "metadata": {
        "id": "gRSyZwuRHC4w"
      },
      "source": [
        "# model.summary()"
      ],
      "execution_count": 23,
      "outputs": []
    },
    {
      "cell_type": "code",
      "metadata": {
        "colab": {
          "base_uri": "https://localhost:8080/"
        },
        "id": "yCvBvZOQHFLM",
        "outputId": "5a623bd6-f98d-418a-b087-fa8cd71d8c44"
      },
      "source": [
        "# Let's create a model which builds automatically by defining the input_shape argument\n",
        "tf.random.set_seed(42)\n",
        "\n",
        "# 1. Create a model\n",
        "model = tf.keras.Sequential([\n",
        "                             tf.keras.layers.Dense(100,activation='relu',input_shape=[1]),\n",
        "                             tf.keras.layers.Dense(1)\n",
        "])\n",
        "\n",
        "# 2. Compile a model\n",
        "model.compile(loss=tf.keras.losses.mae,\n",
        "              optimizer=tf.keras.optimizers.Adam(lr=0.01),\n",
        "              metrics=['mae'])"
      ],
      "execution_count": 24,
      "outputs": [
        {
          "output_type": "stream",
          "text": [
            "/usr/local/lib/python3.7/dist-packages/tensorflow/python/keras/optimizer_v2/optimizer_v2.py:375: UserWarning: The `lr` argument is deprecated, use `learning_rate` instead.\n",
            "  \"The `lr` argument is deprecated, use `learning_rate` instead.\")\n"
          ],
          "name": "stderr"
        }
      ]
    },
    {
      "cell_type": "code",
      "metadata": {
        "colab": {
          "base_uri": "https://localhost:8080/"
        },
        "id": "HoXCP99RH6qP",
        "outputId": "ac97ecc5-faa7-4e4b-8a53-956c70e7f0b3"
      },
      "source": [
        "model.summary()"
      ],
      "execution_count": 25,
      "outputs": [
        {
          "output_type": "stream",
          "text": [
            "Model: \"sequential_4\"\n",
            "_________________________________________________________________\n",
            "Layer (type)                 Output Shape              Param #   \n",
            "=================================================================\n",
            "dense_5 (Dense)              (None, 100)               200       \n",
            "_________________________________________________________________\n",
            "dense_6 (Dense)              (None, 1)                 101       \n",
            "=================================================================\n",
            "Total params: 301\n",
            "Trainable params: 301\n",
            "Non-trainable params: 0\n",
            "_________________________________________________________________\n"
          ],
          "name": "stdout"
        }
      ]
    },
    {
      "cell_type": "markdown",
      "metadata": {
        "id": "ox9CMGpYIJEE"
      },
      "source": [
        "* **Total Params :** Total numbers of parameters in the model.\n",
        "* **Trainable param: **These are the parameters the model can update as it trains.\n",
        "* **Non-trainable params :** These parameters aren't updated during training (these is typical when you use parameters from others models during **Transfer learning**)"
      ]
    },
    {
      "cell_type": "code",
      "metadata": {
        "colab": {
          "base_uri": "https://localhost:8080/"
        },
        "id": "Boo6LZgGH8IE",
        "outputId": "8d22c621-8e84-4f12-f9ee-26d422fee54d"
      },
      "source": [
        "model.fit(X_train,y_train,epochs=100,verbose=1)"
      ],
      "execution_count": 26,
      "outputs": [
        {
          "output_type": "stream",
          "text": [
            "Epoch 1/100\n",
            "2/2 [==============================] - 0s 6ms/step - loss: 40.4178 - mae: 40.4178\n",
            "Epoch 2/100\n",
            "2/2 [==============================] - 0s 5ms/step - loss: 30.0554 - mae: 30.0554\n",
            "Epoch 3/100\n",
            "2/2 [==============================] - 0s 4ms/step - loss: 20.2144 - mae: 20.2144\n",
            "Epoch 4/100\n",
            "2/2 [==============================] - 0s 3ms/step - loss: 10.5312 - mae: 10.5312\n",
            "Epoch 5/100\n",
            "2/2 [==============================] - 0s 4ms/step - loss: 5.2193 - mae: 5.2193\n",
            "Epoch 6/100\n",
            "2/2 [==============================] - 0s 6ms/step - loss: 10.6697 - mae: 10.6697\n",
            "Epoch 7/100\n",
            "2/2 [==============================] - 0s 4ms/step - loss: 12.1755 - mae: 12.1755\n",
            "Epoch 8/100\n",
            "2/2 [==============================] - 0s 3ms/step - loss: 9.9744 - mae: 9.9744\n",
            "Epoch 9/100\n",
            "2/2 [==============================] - 0s 6ms/step - loss: 6.1788 - mae: 6.1788\n",
            "Epoch 10/100\n",
            "2/2 [==============================] - 0s 5ms/step - loss: 4.5409 - mae: 4.5409\n",
            "Epoch 11/100\n",
            "2/2 [==============================] - 0s 4ms/step - loss: 6.4637 - mae: 6.4637\n",
            "Epoch 12/100\n",
            "2/2 [==============================] - 0s 4ms/step - loss: 7.5425 - mae: 7.5425\n",
            "Epoch 13/100\n",
            "2/2 [==============================] - 0s 4ms/step - loss: 6.8689 - mae: 6.8689\n",
            "Epoch 14/100\n",
            "2/2 [==============================] - 0s 4ms/step - loss: 5.1514 - mae: 5.1514\n",
            "Epoch 15/100\n",
            "2/2 [==============================] - 0s 4ms/step - loss: 4.1758 - mae: 4.1758\n",
            "Epoch 16/100\n",
            "2/2 [==============================] - 0s 3ms/step - loss: 5.2912 - mae: 5.2912\n",
            "Epoch 17/100\n",
            "2/2 [==============================] - 0s 3ms/step - loss: 5.8067 - mae: 5.8067\n",
            "Epoch 18/100\n",
            "2/2 [==============================] - 0s 4ms/step - loss: 4.5668 - mae: 4.5668\n",
            "Epoch 19/100\n",
            "2/2 [==============================] - 0s 7ms/step - loss: 3.9723 - mae: 3.9723\n",
            "Epoch 20/100\n",
            "2/2 [==============================] - 0s 4ms/step - loss: 4.9153 - mae: 4.9153\n",
            "Epoch 21/100\n",
            "2/2 [==============================] - 0s 3ms/step - loss: 5.0375 - mae: 5.0375\n",
            "Epoch 22/100\n",
            "2/2 [==============================] - 0s 8ms/step - loss: 4.3382 - mae: 4.3382\n",
            "Epoch 23/100\n",
            "2/2 [==============================] - 0s 4ms/step - loss: 3.9884 - mae: 3.9884\n",
            "Epoch 24/100\n",
            "2/2 [==============================] - 0s 4ms/step - loss: 4.1660 - mae: 4.1660\n",
            "Epoch 25/100\n",
            "2/2 [==============================] - 0s 4ms/step - loss: 4.5287 - mae: 4.5287\n",
            "Epoch 26/100\n",
            "2/2 [==============================] - 0s 4ms/step - loss: 4.0999 - mae: 4.0999\n",
            "Epoch 27/100\n",
            "2/2 [==============================] - 0s 7ms/step - loss: 3.7259 - mae: 3.7259\n",
            "Epoch 28/100\n",
            "2/2 [==============================] - 0s 4ms/step - loss: 3.6958 - mae: 3.6958\n",
            "Epoch 29/100\n",
            "2/2 [==============================] - 0s 4ms/step - loss: 4.2976 - mae: 4.2976\n",
            "Epoch 30/100\n",
            "2/2 [==============================] - 0s 6ms/step - loss: 4.2903 - mae: 4.2903\n",
            "Epoch 31/100\n",
            "2/2 [==============================] - 0s 6ms/step - loss: 3.8821 - mae: 3.8821\n",
            "Epoch 32/100\n",
            "2/2 [==============================] - 0s 7ms/step - loss: 3.8775 - mae: 3.8775\n",
            "Epoch 33/100\n",
            "2/2 [==============================] - 0s 4ms/step - loss: 3.6787 - mae: 3.6787\n",
            "Epoch 34/100\n",
            "2/2 [==============================] - 0s 4ms/step - loss: 3.7263 - mae: 3.7263\n",
            "Epoch 35/100\n",
            "2/2 [==============================] - 0s 4ms/step - loss: 3.8521 - mae: 3.8521\n",
            "Epoch 36/100\n",
            "2/2 [==============================] - 0s 4ms/step - loss: 3.6486 - mae: 3.6486\n",
            "Epoch 37/100\n",
            "2/2 [==============================] - 0s 4ms/step - loss: 3.3636 - mae: 3.3636\n",
            "Epoch 38/100\n",
            "2/2 [==============================] - 0s 4ms/step - loss: 3.3187 - mae: 3.3187\n",
            "Epoch 39/100\n",
            "2/2 [==============================] - 0s 5ms/step - loss: 3.3534 - mae: 3.3534\n",
            "Epoch 40/100\n",
            "2/2 [==============================] - 0s 6ms/step - loss: 3.2516 - mae: 3.2516\n",
            "Epoch 41/100\n",
            "2/2 [==============================] - 0s 5ms/step - loss: 3.2865 - mae: 3.2865\n",
            "Epoch 42/100\n",
            "2/2 [==============================] - 0s 5ms/step - loss: 3.2320 - mae: 3.2320\n",
            "Epoch 43/100\n",
            "2/2 [==============================] - 0s 6ms/step - loss: 3.1092 - mae: 3.1092\n",
            "Epoch 44/100\n",
            "2/2 [==============================] - 0s 6ms/step - loss: 3.0898 - mae: 3.0898\n",
            "Epoch 45/100\n",
            "2/2 [==============================] - 0s 5ms/step - loss: 3.0442 - mae: 3.0442\n",
            "Epoch 46/100\n",
            "2/2 [==============================] - 0s 6ms/step - loss: 3.0519 - mae: 3.0519\n",
            "Epoch 47/100\n",
            "2/2 [==============================] - 0s 5ms/step - loss: 3.1059 - mae: 3.1059\n",
            "Epoch 48/100\n",
            "2/2 [==============================] - 0s 8ms/step - loss: 3.0174 - mae: 3.0174\n",
            "Epoch 49/100\n",
            "2/2 [==============================] - 0s 13ms/step - loss: 2.8641 - mae: 2.8641\n",
            "Epoch 50/100\n",
            "2/2 [==============================] - 0s 9ms/step - loss: 2.9429 - mae: 2.9429\n",
            "Epoch 51/100\n",
            "2/2 [==============================] - 0s 26ms/step - loss: 2.8699 - mae: 2.8699\n",
            "Epoch 52/100\n",
            "2/2 [==============================] - 0s 10ms/step - loss: 2.8461 - mae: 2.8461\n",
            "Epoch 53/100\n",
            "2/2 [==============================] - 0s 5ms/step - loss: 2.9847 - mae: 2.9847\n",
            "Epoch 54/100\n",
            "2/2 [==============================] - 0s 21ms/step - loss: 3.1266 - mae: 3.1266\n",
            "Epoch 55/100\n",
            "2/2 [==============================] - 0s 4ms/step - loss: 2.9528 - mae: 2.9528\n",
            "Epoch 56/100\n",
            "2/2 [==============================] - 0s 6ms/step - loss: 2.5729 - mae: 2.5729\n",
            "Epoch 57/100\n",
            "2/2 [==============================] - 0s 4ms/step - loss: 2.6707 - mae: 2.6707\n",
            "Epoch 58/100\n",
            "2/2 [==============================] - 0s 6ms/step - loss: 2.4485 - mae: 2.4485\n",
            "Epoch 59/100\n",
            "2/2 [==============================] - 0s 6ms/step - loss: 2.5520 - mae: 2.5520\n",
            "Epoch 60/100\n",
            "2/2 [==============================] - 0s 7ms/step - loss: 2.5790 - mae: 2.5790\n",
            "Epoch 61/100\n",
            "2/2 [==============================] - 0s 6ms/step - loss: 2.4146 - mae: 2.4146\n",
            "Epoch 62/100\n",
            "2/2 [==============================] - 0s 6ms/step - loss: 2.2253 - mae: 2.2253\n",
            "Epoch 63/100\n",
            "2/2 [==============================] - 0s 11ms/step - loss: 2.5245 - mae: 2.5245\n",
            "Epoch 64/100\n",
            "2/2 [==============================] - 0s 6ms/step - loss: 2.1231 - mae: 2.1231\n",
            "Epoch 65/100\n",
            "2/2 [==============================] - 0s 8ms/step - loss: 2.3005 - mae: 2.3005\n",
            "Epoch 66/100\n",
            "2/2 [==============================] - 0s 11ms/step - loss: 2.2022 - mae: 2.2022\n",
            "Epoch 67/100\n",
            "2/2 [==============================] - 0s 5ms/step - loss: 1.8395 - mae: 1.8395\n",
            "Epoch 68/100\n",
            "2/2 [==============================] - 0s 5ms/step - loss: 1.9227 - mae: 1.9227\n",
            "Epoch 69/100\n",
            "2/2 [==============================] - 0s 4ms/step - loss: 1.5226 - mae: 1.5226\n",
            "Epoch 70/100\n",
            "2/2 [==============================] - 0s 5ms/step - loss: 1.8243 - mae: 1.8243\n",
            "Epoch 71/100\n",
            "2/2 [==============================] - 0s 5ms/step - loss: 1.5195 - mae: 1.5195\n",
            "Epoch 72/100\n",
            "2/2 [==============================] - 0s 10ms/step - loss: 1.8869 - mae: 1.8869\n",
            "Epoch 73/100\n",
            "2/2 [==============================] - 0s 11ms/step - loss: 1.7680 - mae: 1.7680\n",
            "Epoch 74/100\n",
            "2/2 [==============================] - 0s 6ms/step - loss: 1.2033 - mae: 1.2033\n",
            "Epoch 75/100\n",
            "2/2 [==============================] - 0s 6ms/step - loss: 1.4436 - mae: 1.4436\n",
            "Epoch 76/100\n",
            "2/2 [==============================] - 0s 5ms/step - loss: 1.2924 - mae: 1.2924\n",
            "Epoch 77/100\n",
            "2/2 [==============================] - 0s 5ms/step - loss: 1.0759 - mae: 1.0759\n",
            "Epoch 78/100\n",
            "2/2 [==============================] - 0s 4ms/step - loss: 1.0665 - mae: 1.0665\n",
            "Epoch 79/100\n",
            "2/2 [==============================] - 0s 4ms/step - loss: 0.8072 - mae: 0.8072\n",
            "Epoch 80/100\n",
            "2/2 [==============================] - 0s 3ms/step - loss: 1.4270 - mae: 1.4270\n",
            "Epoch 81/100\n",
            "2/2 [==============================] - 0s 6ms/step - loss: 0.6044 - mae: 0.6044\n",
            "Epoch 82/100\n",
            "2/2 [==============================] - 0s 4ms/step - loss: 1.6202 - mae: 1.6202\n",
            "Epoch 83/100\n",
            "2/2 [==============================] - 0s 6ms/step - loss: 0.8957 - mae: 0.8957\n",
            "Epoch 84/100\n",
            "2/2 [==============================] - 0s 4ms/step - loss: 1.6341 - mae: 1.6341\n",
            "Epoch 85/100\n",
            "2/2 [==============================] - 0s 5ms/step - loss: 0.9653 - mae: 0.9653\n",
            "Epoch 86/100\n",
            "2/2 [==============================] - 0s 4ms/step - loss: 0.8701 - mae: 0.8701\n",
            "Epoch 87/100\n",
            "2/2 [==============================] - 0s 4ms/step - loss: 1.1264 - mae: 1.1264\n",
            "Epoch 88/100\n",
            "2/2 [==============================] - 0s 5ms/step - loss: 0.7075 - mae: 0.7075\n",
            "Epoch 89/100\n",
            "2/2 [==============================] - 0s 5ms/step - loss: 0.7218 - mae: 0.7218\n",
            "Epoch 90/100\n",
            "2/2 [==============================] - 0s 5ms/step - loss: 0.3116 - mae: 0.3116\n",
            "Epoch 91/100\n",
            "2/2 [==============================] - 0s 5ms/step - loss: 0.4941 - mae: 0.4941\n",
            "Epoch 92/100\n",
            "2/2 [==============================] - 0s 6ms/step - loss: 0.4005 - mae: 0.4005\n",
            "Epoch 93/100\n",
            "2/2 [==============================] - 0s 6ms/step - loss: 0.8223 - mae: 0.8223\n",
            "Epoch 94/100\n",
            "2/2 [==============================] - 0s 10ms/step - loss: 0.7452 - mae: 0.7452\n",
            "Epoch 95/100\n",
            "2/2 [==============================] - 0s 10ms/step - loss: 0.6490 - mae: 0.6490\n",
            "Epoch 96/100\n",
            "2/2 [==============================] - 0s 5ms/step - loss: 0.6788 - mae: 0.6788\n",
            "Epoch 97/100\n",
            "2/2 [==============================] - 0s 4ms/step - loss: 0.2371 - mae: 0.2371\n",
            "Epoch 98/100\n",
            "2/2 [==============================] - 0s 4ms/step - loss: 0.3982 - mae: 0.3982\n",
            "Epoch 99/100\n",
            "2/2 [==============================] - 0s 5ms/step - loss: 0.2683 - mae: 0.2683\n",
            "Epoch 100/100\n",
            "2/2 [==============================] - 0s 7ms/step - loss: 0.6434 - mae: 0.6434\n"
          ],
          "name": "stdout"
        },
        {
          "output_type": "execute_result",
          "data": {
            "text/plain": [
              "<tensorflow.python.keras.callbacks.History at 0x7f20275d65d0>"
            ]
          },
          "metadata": {
            "tags": []
          },
          "execution_count": 26
        }
      ]
    },
    {
      "cell_type": "code",
      "metadata": {
        "colab": {
          "base_uri": "https://localhost:8080/"
        },
        "id": "0Z1YpFX3LiZk",
        "outputId": "7d8306fa-7a6c-4762-e1a5-526bd5eb0af6"
      },
      "source": [
        "model.summary()"
      ],
      "execution_count": 27,
      "outputs": [
        {
          "output_type": "stream",
          "text": [
            "Model: \"sequential_4\"\n",
            "_________________________________________________________________\n",
            "Layer (type)                 Output Shape              Param #   \n",
            "=================================================================\n",
            "dense_5 (Dense)              (None, 100)               200       \n",
            "_________________________________________________________________\n",
            "dense_6 (Dense)              (None, 1)                 101       \n",
            "=================================================================\n",
            "Total params: 301\n",
            "Trainable params: 301\n",
            "Non-trainable params: 0\n",
            "_________________________________________________________________\n"
          ],
          "name": "stdout"
        }
      ]
    },
    {
      "cell_type": "code",
      "metadata": {
        "colab": {
          "base_uri": "https://localhost:8080/",
          "height": 0
        },
        "id": "Uloj2yXVL0Oq",
        "outputId": "7eae21bd-e008-4877-a9d0-6a41455fdd1a"
      },
      "source": [
        "from tensorflow.keras.utils import plot_model\n",
        "\n",
        "plot_model(model=model,show_shapes=True)"
      ],
      "execution_count": 28,
      "outputs": [
        {
          "output_type": "execute_result",
          "data": {
            "image/png": "[encoded data removed]",
            "text/plain": [
              "<IPython.core.display.Image object>"
            ]
          },
          "metadata": {
            "tags": []
          },
          "execution_count": 28
        }
      ]
    },
    {
      "cell_type": "markdown",
      "metadata": {
        "id": "QVeMQXFmvKyQ"
      },
      "source": [
        "## Visualizing our model's Predictions"
      ]
    },
    {
      "cell_type": "code",
      "metadata": {
        "colab": {
          "base_uri": "https://localhost:8080/"
        },
        "id": "BGtxUOAvMMiA",
        "outputId": "3696f1b5-ba8a-4559-f33e-8eb9996440dd"
      },
      "source": [
        "# Make some predictions \n",
        "y_pred = model.predict(X_test)\n",
        "y_pred"
      ],
      "execution_count": 29,
      "outputs": [
        {
          "output_type": "execute_result",
          "data": {
            "text/plain": [
              "array([[ 71.615456],\n",
              "       [ 75.785416],\n",
              "       [ 79.95538 ],\n",
              "       [ 84.12535 ],\n",
              "       [ 88.29531 ],\n",
              "       [ 92.46528 ],\n",
              "       [ 96.63524 ],\n",
              "       [100.805405],\n",
              "       [104.975685],\n",
              "       [109.14595 ]], dtype=float32)"
            ]
          },
          "metadata": {
            "tags": []
          },
          "execution_count": 29
        }
      ]
    },
    {
      "cell_type": "code",
      "metadata": {
        "colab": {
          "base_uri": "https://localhost:8080/"
        },
        "id": "XY9QCf0mvvz8",
        "outputId": "da083266-998b-428a-e78a-9f7557e9a123"
      },
      "source": [
        "y_test"
      ],
      "execution_count": 30,
      "outputs": [
        {
          "output_type": "execute_result",
          "data": {
            "text/plain": [
              "<tf.Tensor: shape=(10,), dtype=int32, numpy=array([ 70,  74,  78,  82,  86,  90,  94,  98, 102, 106], dtype=int32)>"
            ]
          },
          "metadata": {
            "tags": []
          },
          "execution_count": 30
        }
      ]
    },
    {
      "cell_type": "code",
      "metadata": {
        "id": "2jBYEKhZvxjR"
      },
      "source": [
        "#let's create a plotting function\n",
        "\n",
        "def plot_predictions(train_data=X_train,\n",
        "                     train_labels=y_train,\n",
        "                     test_data=X_test,\n",
        "                     test_labels=y_test,\n",
        "                     predictions=y_pred):\n",
        "  \"\"\"\n",
        "  plots training data, test data and compares predictions to ground truth labels.\n",
        "  \"\"\"\n",
        "  plt.figure(figsize=(10,7))\n",
        "  plt.scatter(train_data,train_labels,c='b',label='Training Data')\n",
        "  plt.scatter(test_data,test_labels,c='g',label='Testing Data')\n",
        "  plt.scatter(test_data,predictions,c='r',label='Predictions')\n",
        "  plt.legend();"
      ],
      "execution_count": 31,
      "outputs": []
    },
    {
      "cell_type": "code",
      "metadata": {
        "colab": {
          "base_uri": "https://localhost:8080/",
          "height": 0
        },
        "id": "CKJI0g8QxEAa",
        "outputId": "d743ef8c-5b2d-4231-9595-05c3dbafb6b9"
      },
      "source": [
        "plot_predictions()"
      ],
      "execution_count": 32,
      "outputs": [
        {
          "output_type": "display_data",
          "data": {
            "image/png": "[encoded data removed]",
            "text/plain": [
              "<Figure size 720x504 with 1 Axes>"
            ]
          },
          "metadata": {
            "tags": [],
            "needs_background": "light"
          }
        }
      ]
    },
    {
      "cell_type": "markdown",
      "metadata": {
        "id": "uq9kjPBtxqKa"
      },
      "source": [
        "## Evaluting our model's predictions with regression evaluation matrix:"
      ]
    },
    {
      "cell_type": "code",
      "metadata": {
        "colab": {
          "base_uri": "https://localhost:8080/"
        },
        "id": "EoLbNuttx2_C",
        "outputId": "91373713-8804-4cbf-ef39-ca8579307695"
      },
      "source": [
        "model.evaluate(X_test,y_test)"
      ],
      "execution_count": 33,
      "outputs": [
        {
          "output_type": "stream",
          "text": [
            "1/1 [==============================] - 0s 115ms/step - loss: 2.3804 - mae: 2.3804\n"
          ],
          "name": "stdout"
        },
        {
          "output_type": "execute_result",
          "data": {
            "text/plain": [
              "[2.380448818206787, 2.380448818206787]"
            ]
          },
          "metadata": {
            "tags": []
          },
          "execution_count": 33
        }
      ]
    },
    {
      "cell_type": "code",
      "metadata": {
        "colab": {
          "base_uri": "https://localhost:8080/"
        },
        "id": "GBJTuuwXxHAV",
        "outputId": "0e266c61-2714-4051-e165-4a23ba2ce7c9"
      },
      "source": [
        "tf.metrics.mean_absolute_error(y_test,tf.constant(y_pred))"
      ],
      "execution_count": 34,
      "outputs": [
        {
          "output_type": "execute_result",
          "data": {
            "text/plain": [
              "<tf.Tensor: shape=(10,), dtype=float32, numpy=\n",
              "array([16.707636 , 13.72875  , 11.6178465, 10.374929 , 10.       ,\n",
              "       10.493055 , 11.854095 , 14.083242 , 17.180548 , 21.14595  ],\n",
              "      dtype=float32)>"
            ]
          },
          "metadata": {
            "tags": []
          },
          "execution_count": 34
        }
      ]
    },
    {
      "cell_type": "code",
      "metadata": {
        "id": "1GKu5HY0yb8G"
      },
      "source": [
        "y_test = tf.squeeze(y_test)"
      ],
      "execution_count": 35,
      "outputs": []
    },
    {
      "cell_type": "code",
      "metadata": {
        "colab": {
          "base_uri": "https://localhost:8080/"
        },
        "id": "sXtKe8CK0B9B",
        "outputId": "2947b2ad-cf99-4ddd-e4d9-56095ab3b098"
      },
      "source": [
        "y_test"
      ],
      "execution_count": 36,
      "outputs": [
        {
          "output_type": "execute_result",
          "data": {
            "text/plain": [
              "<tf.Tensor: shape=(10,), dtype=int32, numpy=array([ 70,  74,  78,  82,  86,  90,  94,  98, 102, 106], dtype=int32)>"
            ]
          },
          "metadata": {
            "tags": []
          },
          "execution_count": 36
        }
      ]
    },
    {
      "cell_type": "code",
      "metadata": {
        "colab": {
          "base_uri": "https://localhost:8080/"
        },
        "id": "4Ik-ewx-zIGz",
        "outputId": "3ff9464d-92d9-4bc5-9b08-6d80c6feeb91"
      },
      "source": [
        "y_pred = tf.constant(y_pred)\n",
        "y_pred"
      ],
      "execution_count": 37,
      "outputs": [
        {
          "output_type": "execute_result",
          "data": {
            "text/plain": [
              "<tf.Tensor: shape=(10, 1), dtype=float32, numpy=\n",
              "array([[ 71.615456],\n",
              "       [ 75.785416],\n",
              "       [ 79.95538 ],\n",
              "       [ 84.12535 ],\n",
              "       [ 88.29531 ],\n",
              "       [ 92.46528 ],\n",
              "       [ 96.63524 ],\n",
              "       [100.805405],\n",
              "       [104.975685],\n",
              "       [109.14595 ]], dtype=float32)>"
            ]
          },
          "metadata": {
            "tags": []
          },
          "execution_count": 37
        }
      ]
    },
    {
      "cell_type": "code",
      "metadata": {
        "colab": {
          "base_uri": "https://localhost:8080/"
        },
        "id": "Emqe9Y46zI70",
        "outputId": "698e9c55-6033-4fd8-b3a8-5fbcad21f6d0"
      },
      "source": [
        "tf.metrics.mean_absolute_error(y_test,tf.squeeze(y_pred))"
      ],
      "execution_count": 38,
      "outputs": [
        {
          "output_type": "execute_result",
          "data": {
            "text/plain": [
              "<tf.Tensor: shape=(), dtype=float32, numpy=2.3804474>"
            ]
          },
          "metadata": {
            "tags": []
          },
          "execution_count": 38
        }
      ]
    },
    {
      "cell_type": "markdown",
      "metadata": {
        "id": "GlFooiyvL4Vh"
      },
      "source": [
        "## Saving our models\n",
        "\n",
        "Saving our models allows us to use them outside google colab (or wherever they were trained) such as in web applications or a mobile app.\n",
        "\n",
        "There are two format we can save our models.\n",
        "1. The savemodel format\n",
        "2. The HDF5 format"
      ]
    },
    {
      "cell_type": "code",
      "metadata": {
        "colab": {
          "base_uri": "https://localhost:8080/"
        },
        "id": "4wLvMWHhzbFg",
        "outputId": "b742fee0-a907-4e89-caef-17b559c8017f"
      },
      "source": [
        "# Save the model by using SaveModel format\n",
        "model.save('best_model_save_model_format')"
      ],
      "execution_count": 39,
      "outputs": [
        {
          "output_type": "stream",
          "text": [
            "INFO:tensorflow:Assets written to: best_model_save_model_format/assets\n"
          ],
          "name": "stdout"
        }
      ]
    },
    {
      "cell_type": "code",
      "metadata": {
        "id": "eUt1GoElM4aU"
      },
      "source": [
        "# Save the model in HDF5 format\n",
        "model.save('best_model_HD5_format.h5')"
      ],
      "execution_count": 40,
      "outputs": []
    },
    {
      "cell_type": "markdown",
      "metadata": {
        "id": "71yACChA1KdD"
      },
      "source": [
        "## Loading in a save model\n"
      ]
    },
    {
      "cell_type": "code",
      "metadata": {
        "colab": {
          "base_uri": "https://localhost:8080/"
        },
        "id": "CbAC6i0F1o_0",
        "outputId": "ebe2c9f0-0cd1-4c02-c54e-49272d952577"
      },
      "source": [
        "# Load in SavedModel Format\n",
        "loaded_saved_model_format = tf.keras.models.load_model('best_model_save_model_format')\n",
        "loaded_saved_model_format.summary()"
      ],
      "execution_count": 41,
      "outputs": [
        {
          "output_type": "stream",
          "text": [
            "Model: \"sequential_4\"\n",
            "_________________________________________________________________\n",
            "Layer (type)                 Output Shape              Param #   \n",
            "=================================================================\n",
            "dense_5 (Dense)              (None, 100)               200       \n",
            "_________________________________________________________________\n",
            "dense_6 (Dense)              (None, 1)                 101       \n",
            "=================================================================\n",
            "Total params: 301\n",
            "Trainable params: 301\n",
            "Non-trainable params: 0\n",
            "_________________________________________________________________\n"
          ],
          "name": "stdout"
        }
      ]
    },
    {
      "cell_type": "code",
      "metadata": {
        "id": "bv0zEcBX15_X"
      },
      "source": [
        "# Compare the prediction of saved model and predictied prediction before saving it\n",
        "model_prediction_after_saving = model.predict(X_test)"
      ],
      "execution_count": 42,
      "outputs": []
    },
    {
      "cell_type": "code",
      "metadata": {
        "colab": {
          "base_uri": "https://localhost:8080/"
        },
        "id": "jCTxNYPa2JEa",
        "outputId": "7fa98aa2-afce-455a-9332-8c953ae3f6a8"
      },
      "source": [
        "tf.constant(model_prediction_after_saving) == y_pred"
      ],
      "execution_count": 43,
      "outputs": [
        {
          "output_type": "execute_result",
          "data": {
            "text/plain": [
              "<tf.Tensor: shape=(10, 1), dtype=bool, numpy=\n",
              "array([[ True],\n",
              "       [ True],\n",
              "       [ True],\n",
              "       [ True],\n",
              "       [ True],\n",
              "       [ True],\n",
              "       [ True],\n",
              "       [ True],\n",
              "       [ True],\n",
              "       [ True]])>"
            ]
          },
          "metadata": {
            "tags": []
          },
          "execution_count": 43
        }
      ]
    },
    {
      "cell_type": "code",
      "metadata": {
        "colab": {
          "base_uri": "https://localhost:8080/"
        },
        "id": "nUdkU3AZ2NwR",
        "outputId": "8544686f-e682-4446-eebe-93bfb7445bd0"
      },
      "source": [
        "y_pred"
      ],
      "execution_count": 44,
      "outputs": [
        {
          "output_type": "execute_result",
          "data": {
            "text/plain": [
              "<tf.Tensor: shape=(10, 1), dtype=float32, numpy=\n",
              "array([[ 71.615456],\n",
              "       [ 75.785416],\n",
              "       [ 79.95538 ],\n",
              "       [ 84.12535 ],\n",
              "       [ 88.29531 ],\n",
              "       [ 92.46528 ],\n",
              "       [ 96.63524 ],\n",
              "       [100.805405],\n",
              "       [104.975685],\n",
              "       [109.14595 ]], dtype=float32)>"
            ]
          },
          "metadata": {
            "tags": []
          },
          "execution_count": 44
        }
      ]
    },
    {
      "cell_type": "code",
      "metadata": {
        "colab": {
          "base_uri": "https://localhost:8080/"
        },
        "id": "9JR22M2I2O21",
        "outputId": "5066cede-e353-4cac-c068-a1527ff3f31c"
      },
      "source": [
        "# Load similarly for .h5 model\n",
        "model_hdf5_load = tf.keras.models.load_model('/content/best_model_HD5_format.h5')\n",
        "model_hdf5_load.summary()"
      ],
      "execution_count": 45,
      "outputs": [
        {
          "output_type": "stream",
          "text": [
            "Model: \"sequential_4\"\n",
            "_________________________________________________________________\n",
            "Layer (type)                 Output Shape              Param #   \n",
            "=================================================================\n",
            "dense_5 (Dense)              (None, 100)               200       \n",
            "_________________________________________________________________\n",
            "dense_6 (Dense)              (None, 1)                 101       \n",
            "=================================================================\n",
            "Total params: 301\n",
            "Trainable params: 301\n",
            "Non-trainable params: 0\n",
            "_________________________________________________________________\n"
          ],
          "name": "stdout"
        }
      ]
    },
    {
      "cell_type": "code",
      "metadata": {
        "colab": {
          "base_uri": "https://localhost:8080/"
        },
        "id": "iqOV0uTz3S7M",
        "outputId": "ef9c2984-b4d2-4b3a-d0af-8b1092b9c2de"
      },
      "source": [
        "hdf5_pred = model_hdf5_load.predict(X_test)\n",
        "hdf5_pred == y_pred"
      ],
      "execution_count": 46,
      "outputs": [
        {
          "output_type": "stream",
          "text": [
            "WARNING:tensorflow:5 out of the last 7 calls to <function Model.make_predict_function.<locals>.predict_function at 0x7f202bdd63b0> triggered tf.function retracing. Tracing is expensive and the excessive number of tracings could be due to (1) creating @tf.function repeatedly in a loop, (2) passing tensors with different shapes, (3) passing Python objects instead of tensors. For (1), please define your @tf.function outside of the loop. For (2), @tf.function has experimental_relax_shapes=True option that relaxes argument shapes that can avoid unnecessary retracing. For (3), please refer to https://www.tensorflow.org/guide/function#controlling_retracing and https://www.tensorflow.org/api_docs/python/tf/function for  more details.\n"
          ],
          "name": "stdout"
        },
        {
          "output_type": "execute_result",
          "data": {
            "text/plain": [
              "<tf.Tensor: shape=(10, 1), dtype=bool, numpy=\n",
              "array([[ True],\n",
              "       [ True],\n",
              "       [ True],\n",
              "       [ True],\n",
              "       [ True],\n",
              "       [ True],\n",
              "       [ True],\n",
              "       [ True],\n",
              "       [ True],\n",
              "       [ True]])>"
            ]
          },
          "metadata": {
            "tags": []
          },
          "execution_count": 46
        }
      ]
    },
    {
      "cell_type": "markdown",
      "metadata": {
        "id": "dIwl-CBIiRix"
      },
      "source": [
        "# A Larger Example"
      ]
    },
    {
      "cell_type": "markdown",
      "metadata": {
        "id": "H4saLUyffsBP"
      },
      "source": [
        "Alright, we've seen the fundamentals of building neural network regression models in TensorFlow.\n",
        "\n",
        "Let's step it up a notch and build a model for a more feature rich datase.\n",
        "\n",
        "More specifically we're going to try predict the cost of medical insurance for individuals based on a number of different parameters such as, age, sex, bmi, children, smoking_status and residential_region.\n",
        "\n",
        "To do, we'll leverage the pubically available Medical Cost dataset available from Kaggle and hosted on GitHub."
      ]
    },
    {
      "cell_type": "code",
      "metadata": {
        "id": "pTAnCeNvihLP"
      },
      "source": [
        "import tensorflow as tf\n",
        "import pandas as pd\n",
        "import matplotlib.pyplot as plt\n",
        "import seaborn as sns"
      ],
      "execution_count": 47,
      "outputs": []
    },
    {
      "cell_type": "code",
      "metadata": {
        "id": "OKdEHIdi3dK1"
      },
      "source": [
        "insurance = pd.read_csv(\"https://raw.githubusercontent.com/stedy/Machine-Learning-with-R-datasets/master/insurance.csv\")"
      ],
      "execution_count": 48,
      "outputs": []
    },
    {
      "cell_type": "code",
      "metadata": {
        "colab": {
          "base_uri": "https://localhost:8080/",
          "height": 204
        },
        "id": "n7HjKzsYidBu",
        "outputId": "833f6814-3bc8-416b-fbf7-46122bcdceca"
      },
      "source": [
        "insurance.head()"
      ],
      "execution_count": 49,
      "outputs": [
        {
          "output_type": "execute_result",
          "data": {
            "text/html": [
              "<div>\n",
              "<style scoped>\n",
              "    .dataframe tbody tr th:only-of-type {\n",
              "        vertical-align: middle;\n",
              "    }\n",
              "\n",
              "    .dataframe tbody tr th {\n",
              "        vertical-align: top;\n",
              "    }\n",
              "\n",
              "    .dataframe thead th {\n",
              "        text-align: right;\n",
              "    }\n",
              "</style>\n",
              "<table border=\"1\" class=\"dataframe\">\n",
              "  <thead>\n",
              "    <tr style=\"text-align: right;\">\n",
              "      <th></th>\n",
              "      <th>age</th>\n",
              "      <th>sex</th>\n",
              "      <th>bmi</th>\n",
              "      <th>children</th>\n",
              "      <th>smoker</th>\n",
              "      <th>region</th>\n",
              "      <th>charges</th>\n",
              "    </tr>\n",
              "  </thead>\n",
              "  <tbody>\n",
              "    <tr>\n",
              "      <th>0</th>\n",
              "      <td>19</td>\n",
              "      <td>female</td>\n",
              "      <td>27.900</td>\n",
              "      <td>0</td>\n",
              "      <td>yes</td>\n",
              "      <td>southwest</td>\n",
              "      <td>16884.92400</td>\n",
              "    </tr>\n",
              "    <tr>\n",
              "      <th>1</th>\n",
              "      <td>18</td>\n",
              "      <td>male</td>\n",
              "      <td>33.770</td>\n",
              "      <td>1</td>\n",
              "      <td>no</td>\n",
              "      <td>southeast</td>\n",
              "      <td>1725.55230</td>\n",
              "    </tr>\n",
              "    <tr>\n",
              "      <th>2</th>\n",
              "      <td>28</td>\n",
              "      <td>male</td>\n",
              "      <td>33.000</td>\n",
              "      <td>3</td>\n",
              "      <td>no</td>\n",
              "      <td>southeast</td>\n",
              "      <td>4449.46200</td>\n",
              "    </tr>\n",
              "    <tr>\n",
              "      <th>3</th>\n",
              "      <td>33</td>\n",
              "      <td>male</td>\n",
              "      <td>22.705</td>\n",
              "      <td>0</td>\n",
              "      <td>no</td>\n",
              "      <td>northwest</td>\n",
              "      <td>21984.47061</td>\n",
              "    </tr>\n",
              "    <tr>\n",
              "      <th>4</th>\n",
              "      <td>32</td>\n",
              "      <td>male</td>\n",
              "      <td>28.880</td>\n",
              "      <td>0</td>\n",
              "      <td>no</td>\n",
              "      <td>northwest</td>\n",
              "      <td>3866.85520</td>\n",
              "    </tr>\n",
              "  </tbody>\n",
              "</table>\n",
              "</div>"
            ],
            "text/plain": [
              "   age     sex     bmi  children smoker     region      charges\n",
              "0   19  female  27.900         0    yes  southwest  16884.92400\n",
              "1   18    male  33.770         1     no  southeast   1725.55230\n",
              "2   28    male  33.000         3     no  southeast   4449.46200\n",
              "3   33    male  22.705         0     no  northwest  21984.47061\n",
              "4   32    male  28.880         0     no  northwest   3866.85520"
            ]
          },
          "metadata": {
            "tags": []
          },
          "execution_count": 49
        }
      ]
    },
    {
      "cell_type": "code",
      "metadata": {
        "id": "ZpC2_o4FirL0"
      },
      "source": [
        "insurance_df = pd.get_dummies(insurance,drop_first=True)"
      ],
      "execution_count": 50,
      "outputs": []
    },
    {
      "cell_type": "code",
      "metadata": {
        "colab": {
          "base_uri": "https://localhost:8080/",
          "height": 204
        },
        "id": "1Lny9Gb_kmns",
        "outputId": "b46d248b-f77f-4f44-8090-97573667cceb"
      },
      "source": [
        "insurance_df.head()"
      ],
      "execution_count": 51,
      "outputs": [
        {
          "output_type": "execute_result",
          "data": {
            "text/html": [
              "<div>\n",
              "<style scoped>\n",
              "    .dataframe tbody tr th:only-of-type {\n",
              "        vertical-align: middle;\n",
              "    }\n",
              "\n",
              "    .dataframe tbody tr th {\n",
              "        vertical-align: top;\n",
              "    }\n",
              "\n",
              "    .dataframe thead th {\n",
              "        text-align: right;\n",
              "    }\n",
              "</style>\n",
              "<table border=\"1\" class=\"dataframe\">\n",
              "  <thead>\n",
              "    <tr style=\"text-align: right;\">\n",
              "      <th></th>\n",
              "      <th>age</th>\n",
              "      <th>bmi</th>\n",
              "      <th>children</th>\n",
              "      <th>charges</th>\n",
              "      <th>sex_male</th>\n",
              "      <th>smoker_yes</th>\n",
              "      <th>region_northwest</th>\n",
              "      <th>region_southeast</th>\n",
              "      <th>region_southwest</th>\n",
              "    </tr>\n",
              "  </thead>\n",
              "  <tbody>\n",
              "    <tr>\n",
              "      <th>0</th>\n",
              "      <td>19</td>\n",
              "      <td>27.900</td>\n",
              "      <td>0</td>\n",
              "      <td>16884.92400</td>\n",
              "      <td>0</td>\n",
              "      <td>1</td>\n",
              "      <td>0</td>\n",
              "      <td>0</td>\n",
              "      <td>1</td>\n",
              "    </tr>\n",
              "    <tr>\n",
              "      <th>1</th>\n",
              "      <td>18</td>\n",
              "      <td>33.770</td>\n",
              "      <td>1</td>\n",
              "      <td>1725.55230</td>\n",
              "      <td>1</td>\n",
              "      <td>0</td>\n",
              "      <td>0</td>\n",
              "      <td>1</td>\n",
              "      <td>0</td>\n",
              "    </tr>\n",
              "    <tr>\n",
              "      <th>2</th>\n",
              "      <td>28</td>\n",
              "      <td>33.000</td>\n",
              "      <td>3</td>\n",
              "      <td>4449.46200</td>\n",
              "      <td>1</td>\n",
              "      <td>0</td>\n",
              "      <td>0</td>\n",
              "      <td>1</td>\n",
              "      <td>0</td>\n",
              "    </tr>\n",
              "    <tr>\n",
              "      <th>3</th>\n",
              "      <td>33</td>\n",
              "      <td>22.705</td>\n",
              "      <td>0</td>\n",
              "      <td>21984.47061</td>\n",
              "      <td>1</td>\n",
              "      <td>0</td>\n",
              "      <td>1</td>\n",
              "      <td>0</td>\n",
              "      <td>0</td>\n",
              "    </tr>\n",
              "    <tr>\n",
              "      <th>4</th>\n",
              "      <td>32</td>\n",
              "      <td>28.880</td>\n",
              "      <td>0</td>\n",
              "      <td>3866.85520</td>\n",
              "      <td>1</td>\n",
              "      <td>0</td>\n",
              "      <td>1</td>\n",
              "      <td>0</td>\n",
              "      <td>0</td>\n",
              "    </tr>\n",
              "  </tbody>\n",
              "</table>\n",
              "</div>"
            ],
            "text/plain": [
              "   age     bmi  children  ...  region_northwest  region_southeast  region_southwest\n",
              "0   19  27.900         0  ...                 0                 0                 1\n",
              "1   18  33.770         1  ...                 0                 1                 0\n",
              "2   28  33.000         3  ...                 0                 1                 0\n",
              "3   33  22.705         0  ...                 1                 0                 0\n",
              "4   32  28.880         0  ...                 1                 0                 0\n",
              "\n",
              "[5 rows x 9 columns]"
            ]
          },
          "metadata": {
            "tags": []
          },
          "execution_count": 51
        }
      ]
    },
    {
      "cell_type": "code",
      "metadata": {
        "id": "iJpZeTtLkuTv"
      },
      "source": [
        "# Creating X and y values (feature and lables)\n",
        "X = insurance_df.drop('charges',axis=1)\n",
        "y= insurance_df['charges']"
      ],
      "execution_count": 52,
      "outputs": []
    },
    {
      "cell_type": "code",
      "metadata": {
        "colab": {
          "base_uri": "https://localhost:8080/",
          "height": 204
        },
        "id": "bbjbfe8qlSfG",
        "outputId": "72d78149-53b2-4ded-ee66-1992597a60c9"
      },
      "source": [
        "X.head()"
      ],
      "execution_count": 53,
      "outputs": [
        {
          "output_type": "execute_result",
          "data": {
            "text/html": [
              "<div>\n",
              "<style scoped>\n",
              "    .dataframe tbody tr th:only-of-type {\n",
              "        vertical-align: middle;\n",
              "    }\n",
              "\n",
              "    .dataframe tbody tr th {\n",
              "        vertical-align: top;\n",
              "    }\n",
              "\n",
              "    .dataframe thead th {\n",
              "        text-align: right;\n",
              "    }\n",
              "</style>\n",
              "<table border=\"1\" class=\"dataframe\">\n",
              "  <thead>\n",
              "    <tr style=\"text-align: right;\">\n",
              "      <th></th>\n",
              "      <th>age</th>\n",
              "      <th>bmi</th>\n",
              "      <th>children</th>\n",
              "      <th>sex_male</th>\n",
              "      <th>smoker_yes</th>\n",
              "      <th>region_northwest</th>\n",
              "      <th>region_southeast</th>\n",
              "      <th>region_southwest</th>\n",
              "    </tr>\n",
              "  </thead>\n",
              "  <tbody>\n",
              "    <tr>\n",
              "      <th>0</th>\n",
              "      <td>19</td>\n",
              "      <td>27.900</td>\n",
              "      <td>0</td>\n",
              "      <td>0</td>\n",
              "      <td>1</td>\n",
              "      <td>0</td>\n",
              "      <td>0</td>\n",
              "      <td>1</td>\n",
              "    </tr>\n",
              "    <tr>\n",
              "      <th>1</th>\n",
              "      <td>18</td>\n",
              "      <td>33.770</td>\n",
              "      <td>1</td>\n",
              "      <td>1</td>\n",
              "      <td>0</td>\n",
              "      <td>0</td>\n",
              "      <td>1</td>\n",
              "      <td>0</td>\n",
              "    </tr>\n",
              "    <tr>\n",
              "      <th>2</th>\n",
              "      <td>28</td>\n",
              "      <td>33.000</td>\n",
              "      <td>3</td>\n",
              "      <td>1</td>\n",
              "      <td>0</td>\n",
              "      <td>0</td>\n",
              "      <td>1</td>\n",
              "      <td>0</td>\n",
              "    </tr>\n",
              "    <tr>\n",
              "      <th>3</th>\n",
              "      <td>33</td>\n",
              "      <td>22.705</td>\n",
              "      <td>0</td>\n",
              "      <td>1</td>\n",
              "      <td>0</td>\n",
              "      <td>1</td>\n",
              "      <td>0</td>\n",
              "      <td>0</td>\n",
              "    </tr>\n",
              "    <tr>\n",
              "      <th>4</th>\n",
              "      <td>32</td>\n",
              "      <td>28.880</td>\n",
              "      <td>0</td>\n",
              "      <td>1</td>\n",
              "      <td>0</td>\n",
              "      <td>1</td>\n",
              "      <td>0</td>\n",
              "      <td>0</td>\n",
              "    </tr>\n",
              "  </tbody>\n",
              "</table>\n",
              "</div>"
            ],
            "text/plain": [
              "   age     bmi  children  ...  region_northwest  region_southeast  region_southwest\n",
              "0   19  27.900         0  ...                 0                 0                 1\n",
              "1   18  33.770         1  ...                 0                 1                 0\n",
              "2   28  33.000         3  ...                 0                 1                 0\n",
              "3   33  22.705         0  ...                 1                 0                 0\n",
              "4   32  28.880         0  ...                 1                 0                 0\n",
              "\n",
              "[5 rows x 8 columns]"
            ]
          },
          "metadata": {
            "tags": []
          },
          "execution_count": 53
        }
      ]
    },
    {
      "cell_type": "code",
      "metadata": {
        "colab": {
          "base_uri": "https://localhost:8080/"
        },
        "id": "41RhhICBlUhn",
        "outputId": "ce4b32ae-b913-43e6-d03d-19092bfffb10"
      },
      "source": [
        "y.head()"
      ],
      "execution_count": 54,
      "outputs": [
        {
          "output_type": "execute_result",
          "data": {
            "text/plain": [
              "0    16884.92400\n",
              "1     1725.55230\n",
              "2     4449.46200\n",
              "3    21984.47061\n",
              "4     3866.85520\n",
              "Name: charges, dtype: float64"
            ]
          },
          "metadata": {
            "tags": []
          },
          "execution_count": 54
        }
      ]
    },
    {
      "cell_type": "code",
      "metadata": {
        "colab": {
          "base_uri": "https://localhost:8080/"
        },
        "id": "FXOR4T6MlV6F",
        "outputId": "9ad33a11-ce83-4541-8ad5-ccccbf329a46"
      },
      "source": [
        "#Split train test split\n",
        "from sklearn.model_selection import train_test_split\n",
        "\n",
        "X_train,X_test,y_train,y_test = train_test_split(X,y,random_state=42,test_size=.2)\n",
        "X_train.shape,X_test.shape,y_train.shape,y_test.shape"
      ],
      "execution_count": 55,
      "outputs": [
        {
          "output_type": "execute_result",
          "data": {
            "text/plain": [
              "((1070, 8), (268, 8), (1070,), (268,))"
            ]
          },
          "metadata": {
            "tags": []
          },
          "execution_count": 55
        }
      ]
    },
    {
      "cell_type": "code",
      "metadata": {
        "colab": {
          "base_uri": "https://localhost:8080/"
        },
        "id": "KJwy7qldl4hK",
        "outputId": "3f60a346-1084-4001-c387-bfb38aa56f6d"
      },
      "source": [
        "tf.random.set_seed(42)\n",
        "\n",
        "#create a model\n",
        "\n",
        "model = tf.keras.Sequential([\n",
        "                             tf.keras.layers.Dense(100,activation='relu'),\n",
        "                             tf.keras.layers.Dense(100,activation='relu'),\n",
        "                             tf.keras.layers.Dense(100,activation='relu'),\n",
        "                             tf.keras.layers.Dense(1)\n",
        "])\n",
        "\n",
        "# compile the model\n",
        "model.compile(loss=tf.keras.losses.mae,\n",
        "              optimizer=tf.keras.optimizers.Adam(lr=0.01),\n",
        "              metrics=['mae'])\n",
        "\n",
        "# 3. fit the model\n",
        "history = model.fit(X_train,y_train,epochs=100,verbose=1)"
      ],
      "execution_count": 56,
      "outputs": [
        {
          "output_type": "stream",
          "text": [
            "/usr/local/lib/python3.7/dist-packages/tensorflow/python/keras/optimizer_v2/optimizer_v2.py:375: UserWarning: The `lr` argument is deprecated, use `learning_rate` instead.\n",
            "  \"The `lr` argument is deprecated, use `learning_rate` instead.\")\n"
          ],
          "name": "stderr"
        },
        {
          "output_type": "stream",
          "text": [
            "Epoch 1/100\n",
            "34/34 [==============================] - 0s 2ms/step - loss: 9681.4365 - mae: 9681.4365\n",
            "Epoch 2/100\n",
            "34/34 [==============================] - 0s 2ms/step - loss: 7190.6807 - mae: 7190.6807\n",
            "Epoch 3/100\n",
            "34/34 [==============================] - 0s 2ms/step - loss: 6718.5640 - mae: 6718.5640\n",
            "Epoch 4/100\n",
            "34/34 [==============================] - 0s 2ms/step - loss: 6541.3345 - mae: 6541.3345\n",
            "Epoch 5/100\n",
            "34/34 [==============================] - 0s 2ms/step - loss: 6353.3115 - mae: 6353.3115\n",
            "Epoch 6/100\n",
            "34/34 [==============================] - 0s 2ms/step - loss: 6141.3330 - mae: 6141.3330\n",
            "Epoch 7/100\n",
            "34/34 [==============================] - 0s 2ms/step - loss: 5649.9229 - mae: 5649.9229\n",
            "Epoch 8/100\n",
            "34/34 [==============================] - 0s 2ms/step - loss: 4739.9858 - mae: 4739.9858\n",
            "Epoch 9/100\n",
            "34/34 [==============================] - 0s 2ms/step - loss: 4080.0298 - mae: 4080.0298\n",
            "Epoch 10/100\n",
            "34/34 [==============================] - 0s 2ms/step - loss: 3686.9590 - mae: 3686.9590\n",
            "Epoch 11/100\n",
            "34/34 [==============================] - 0s 2ms/step - loss: 3647.5195 - mae: 3647.5195\n",
            "Epoch 12/100\n",
            "34/34 [==============================] - 0s 2ms/step - loss: 3557.2178 - mae: 3557.2178\n",
            "Epoch 13/100\n",
            "34/34 [==============================] - 0s 3ms/step - loss: 3522.4067 - mae: 3522.4067\n",
            "Epoch 14/100\n",
            "34/34 [==============================] - 0s 2ms/step - loss: 3535.3655 - mae: 3535.3655\n",
            "Epoch 15/100\n",
            "34/34 [==============================] - 0s 2ms/step - loss: 3559.4236 - mae: 3559.4236\n",
            "Epoch 16/100\n",
            "34/34 [==============================] - 0s 2ms/step - loss: 3543.5818 - mae: 3543.5818\n",
            "Epoch 17/100\n",
            "34/34 [==============================] - 0s 2ms/step - loss: 3498.9238 - mae: 3498.9238\n",
            "Epoch 18/100\n",
            "34/34 [==============================] - 0s 2ms/step - loss: 3440.6846 - mae: 3440.6846\n",
            "Epoch 19/100\n",
            "34/34 [==============================] - 0s 2ms/step - loss: 3326.8513 - mae: 3326.8513\n",
            "Epoch 20/100\n",
            "34/34 [==============================] - 0s 2ms/step - loss: 3250.2615 - mae: 3250.2615\n",
            "Epoch 21/100\n",
            "34/34 [==============================] - 0s 2ms/step - loss: 3387.5938 - mae: 3387.5938\n",
            "Epoch 22/100\n",
            "34/34 [==============================] - 0s 2ms/step - loss: 3187.9290 - mae: 3187.9290\n",
            "Epoch 23/100\n",
            "34/34 [==============================] - 0s 2ms/step - loss: 3250.3403 - mae: 3250.3403\n",
            "Epoch 24/100\n",
            "34/34 [==============================] - 0s 2ms/step - loss: 3208.7512 - mae: 3208.7512\n",
            "Epoch 25/100\n",
            "34/34 [==============================] - 0s 2ms/step - loss: 3270.6096 - mae: 3270.6096\n",
            "Epoch 26/100\n",
            "34/34 [==============================] - 0s 2ms/step - loss: 3207.3984 - mae: 3207.3984\n",
            "Epoch 27/100\n",
            "34/34 [==============================] - 0s 2ms/step - loss: 3181.5264 - mae: 3181.5264\n",
            "Epoch 28/100\n",
            "34/34 [==============================] - 0s 2ms/step - loss: 3232.2393 - mae: 3232.2393\n",
            "Epoch 29/100\n",
            "34/34 [==============================] - 0s 2ms/step - loss: 3248.1426 - mae: 3248.1426\n",
            "Epoch 30/100\n",
            "34/34 [==============================] - 0s 2ms/step - loss: 3172.5659 - mae: 3172.5659\n",
            "Epoch 31/100\n",
            "34/34 [==============================] - 0s 2ms/step - loss: 3049.3882 - mae: 3049.3882\n",
            "Epoch 32/100\n",
            "34/34 [==============================] - 0s 2ms/step - loss: 3092.0261 - mae: 3092.0261\n",
            "Epoch 33/100\n",
            "34/34 [==============================] - 0s 2ms/step - loss: 3146.0906 - mae: 3146.0906\n",
            "Epoch 34/100\n",
            "34/34 [==============================] - 0s 3ms/step - loss: 3309.4680 - mae: 3309.4680\n",
            "Epoch 35/100\n",
            "34/34 [==============================] - 0s 2ms/step - loss: 2997.3076 - mae: 2997.3076\n",
            "Epoch 36/100\n",
            "34/34 [==============================] - 0s 2ms/step - loss: 2996.8599 - mae: 2996.8599\n",
            "Epoch 37/100\n",
            "34/34 [==============================] - 0s 2ms/step - loss: 3042.3030 - mae: 3042.3030\n",
            "Epoch 38/100\n",
            "34/34 [==============================] - 0s 2ms/step - loss: 2937.2673 - mae: 2937.2673\n",
            "Epoch 39/100\n",
            "34/34 [==============================] - 0s 2ms/step - loss: 2885.5020 - mae: 2885.5020\n",
            "Epoch 40/100\n",
            "34/34 [==============================] - 0s 2ms/step - loss: 3025.5151 - mae: 3025.5151\n",
            "Epoch 41/100\n",
            "34/34 [==============================] - 0s 2ms/step - loss: 2922.5110 - mae: 2922.5110\n",
            "Epoch 42/100\n",
            "34/34 [==============================] - 0s 2ms/step - loss: 3033.8135 - mae: 3033.8135\n",
            "Epoch 43/100\n",
            "34/34 [==============================] - 0s 2ms/step - loss: 2904.0203 - mae: 2904.0203\n",
            "Epoch 44/100\n",
            "34/34 [==============================] - 0s 2ms/step - loss: 2779.8418 - mae: 2779.8418\n",
            "Epoch 45/100\n",
            "34/34 [==============================] - 0s 2ms/step - loss: 2889.7549 - mae: 2889.7549\n",
            "Epoch 46/100\n",
            "34/34 [==============================] - 0s 2ms/step - loss: 2809.8633 - mae: 2809.8633\n",
            "Epoch 47/100\n",
            "34/34 [==============================] - 0s 2ms/step - loss: 2704.4651 - mae: 2704.4651\n",
            "Epoch 48/100\n",
            "34/34 [==============================] - 0s 2ms/step - loss: 3006.0962 - mae: 3006.0962\n",
            "Epoch 49/100\n",
            "34/34 [==============================] - 0s 2ms/step - loss: 3046.6233 - mae: 3046.6233\n",
            "Epoch 50/100\n",
            "34/34 [==============================] - 0s 2ms/step - loss: 2861.0295 - mae: 2861.0295\n",
            "Epoch 51/100\n",
            "34/34 [==============================] - 0s 2ms/step - loss: 2763.7637 - mae: 2763.7637\n",
            "Epoch 52/100\n",
            "34/34 [==============================] - 0s 2ms/step - loss: 2648.8474 - mae: 2648.8474\n",
            "Epoch 53/100\n",
            "34/34 [==============================] - 0s 2ms/step - loss: 2656.0088 - mae: 2656.0088\n",
            "Epoch 54/100\n",
            "34/34 [==============================] - 0s 2ms/step - loss: 2633.5894 - mae: 2633.5894\n",
            "Epoch 55/100\n",
            "34/34 [==============================] - 0s 2ms/step - loss: 2635.3694 - mae: 2635.3694\n",
            "Epoch 56/100\n",
            "34/34 [==============================] - 0s 2ms/step - loss: 2787.4841 - mae: 2787.4841\n",
            "Epoch 57/100\n",
            "34/34 [==============================] - 0s 2ms/step - loss: 2716.5503 - mae: 2716.5503\n",
            "Epoch 58/100\n",
            "34/34 [==============================] - 0s 2ms/step - loss: 2441.1843 - mae: 2441.1843\n",
            "Epoch 59/100\n",
            "34/34 [==============================] - 0s 2ms/step - loss: 2557.0610 - mae: 2557.0610\n",
            "Epoch 60/100\n",
            "34/34 [==============================] - 0s 2ms/step - loss: 2640.9739 - mae: 2640.9739\n",
            "Epoch 61/100\n",
            "34/34 [==============================] - 0s 2ms/step - loss: 2988.4592 - mae: 2988.4592\n",
            "Epoch 62/100\n",
            "34/34 [==============================] - 0s 2ms/step - loss: 2584.4319 - mae: 2584.4319\n",
            "Epoch 63/100\n",
            "34/34 [==============================] - 0s 2ms/step - loss: 2598.2368 - mae: 2598.2368\n",
            "Epoch 64/100\n",
            "34/34 [==============================] - 0s 2ms/step - loss: 2476.5859 - mae: 2476.5859\n",
            "Epoch 65/100\n",
            "34/34 [==============================] - 0s 2ms/step - loss: 2544.9111 - mae: 2544.9111\n",
            "Epoch 66/100\n",
            "34/34 [==============================] - 0s 2ms/step - loss: 2531.5908 - mae: 2531.5908\n",
            "Epoch 67/100\n",
            "34/34 [==============================] - 0s 2ms/step - loss: 2421.3806 - mae: 2421.3806\n",
            "Epoch 68/100\n",
            "34/34 [==============================] - 0s 2ms/step - loss: 2642.8755 - mae: 2642.8755\n",
            "Epoch 69/100\n",
            "34/34 [==============================] - 0s 2ms/step - loss: 2489.2234 - mae: 2489.2234\n",
            "Epoch 70/100\n",
            "34/34 [==============================] - 0s 2ms/step - loss: 2294.1240 - mae: 2294.1240\n",
            "Epoch 71/100\n",
            "34/34 [==============================] - 0s 2ms/step - loss: 2366.2939 - mae: 2366.2939\n",
            "Epoch 72/100\n",
            "34/34 [==============================] - 0s 2ms/step - loss: 2394.9788 - mae: 2394.9788\n",
            "Epoch 73/100\n",
            "34/34 [==============================] - 0s 2ms/step - loss: 2674.2432 - mae: 2674.2432\n",
            "Epoch 74/100\n",
            "34/34 [==============================] - 0s 2ms/step - loss: 2572.3799 - mae: 2572.3799\n",
            "Epoch 75/100\n",
            "34/34 [==============================] - 0s 2ms/step - loss: 2560.2966 - mae: 2560.2966\n",
            "Epoch 76/100\n",
            "34/34 [==============================] - 0s 2ms/step - loss: 2309.5107 - mae: 2309.5107\n",
            "Epoch 77/100\n",
            "34/34 [==============================] - 0s 2ms/step - loss: 2301.3452 - mae: 2301.3452\n",
            "Epoch 78/100\n",
            "34/34 [==============================] - 0s 2ms/step - loss: 2517.2104 - mae: 2517.2104\n",
            "Epoch 79/100\n",
            "34/34 [==============================] - 0s 2ms/step - loss: 2433.1040 - mae: 2433.1040\n",
            "Epoch 80/100\n",
            "34/34 [==============================] - 0s 2ms/step - loss: 2362.8508 - mae: 2362.8508\n",
            "Epoch 81/100\n",
            "34/34 [==============================] - 0s 2ms/step - loss: 2701.5886 - mae: 2701.5886\n",
            "Epoch 82/100\n",
            "34/34 [==============================] - 0s 2ms/step - loss: 2519.9646 - mae: 2519.9646\n",
            "Epoch 83/100\n",
            "34/34 [==============================] - 0s 2ms/step - loss: 2314.2197 - mae: 2314.2197\n",
            "Epoch 84/100\n",
            "34/34 [==============================] - 0s 2ms/step - loss: 2297.8928 - mae: 2297.8928\n",
            "Epoch 85/100\n",
            "34/34 [==============================] - 0s 2ms/step - loss: 2391.1650 - mae: 2391.1650\n",
            "Epoch 86/100\n",
            "34/34 [==============================] - 0s 2ms/step - loss: 2314.0295 - mae: 2314.0295\n",
            "Epoch 87/100\n",
            "34/34 [==============================] - 0s 2ms/step - loss: 2622.4265 - mae: 2622.4265\n",
            "Epoch 88/100\n",
            "34/34 [==============================] - 0s 2ms/step - loss: 2216.2278 - mae: 2216.2278\n",
            "Epoch 89/100\n",
            "34/34 [==============================] - 0s 2ms/step - loss: 2316.6370 - mae: 2316.6370\n",
            "Epoch 90/100\n",
            "34/34 [==============================] - 0s 2ms/step - loss: 2304.7063 - mae: 2304.7063\n",
            "Epoch 91/100\n",
            "34/34 [==============================] - 0s 2ms/step - loss: 2357.4531 - mae: 2357.4531\n",
            "Epoch 92/100\n",
            "34/34 [==============================] - 0s 2ms/step - loss: 2587.8062 - mae: 2587.8062\n",
            "Epoch 93/100\n",
            "34/34 [==============================] - 0s 2ms/step - loss: 2369.2124 - mae: 2369.2124\n",
            "Epoch 94/100\n",
            "34/34 [==============================] - 0s 2ms/step - loss: 2703.0186 - mae: 2703.0186\n",
            "Epoch 95/100\n",
            "34/34 [==============================] - 0s 2ms/step - loss: 2412.3892 - mae: 2412.3892\n",
            "Epoch 96/100\n",
            "34/34 [==============================] - 0s 2ms/step - loss: 2301.4651 - mae: 2301.4651\n",
            "Epoch 97/100\n",
            "34/34 [==============================] - 0s 2ms/step - loss: 2343.5303 - mae: 2343.5303\n",
            "Epoch 98/100\n",
            "34/34 [==============================] - 0s 2ms/step - loss: 2677.4634 - mae: 2677.4634\n",
            "Epoch 99/100\n",
            "34/34 [==============================] - 0s 2ms/step - loss: 2193.2766 - mae: 2193.2766\n",
            "Epoch 100/100\n",
            "34/34 [==============================] - 0s 2ms/step - loss: 2172.7419 - mae: 2172.7419\n"
          ],
          "name": "stdout"
        }
      ]
    },
    {
      "cell_type": "code",
      "metadata": {
        "colab": {
          "base_uri": "https://localhost:8080/"
        },
        "id": "JBKovbAGmqBw",
        "outputId": "61ddd90c-2699-45cf-9e47-12043f8490dc"
      },
      "source": [
        "#check the results of insurance model\n",
        "model.evaluate(X_test,y_test)"
      ],
      "execution_count": 57,
      "outputs": [
        {
          "output_type": "stream",
          "text": [
            "9/9 [==============================] - 0s 2ms/step - loss: 1979.1266 - mae: 1979.1266\n"
          ],
          "name": "stdout"
        },
        {
          "output_type": "execute_result",
          "data": {
            "text/plain": [
              "[1979.1265869140625, 1979.1265869140625]"
            ]
          },
          "metadata": {
            "tags": []
          },
          "execution_count": 57
        }
      ]
    },
    {
      "cell_type": "code",
      "metadata": {
        "colab": {
          "base_uri": "https://localhost:8080/",
          "height": 299
        },
        "id": "6ZNKYYUlnjI0",
        "outputId": "cc6d54d1-0a50-4782-e5d7-613997d45429"
      },
      "source": [
        "pd.DataFrame(history.history).plot()\n",
        "plt.ylabel('loss')\n",
        "plt.xlabel('epochs')"
      ],
      "execution_count": 58,
      "outputs": [
        {
          "output_type": "execute_result",
          "data": {
            "text/plain": [
              "Text(0.5, 0, 'epochs')"
            ]
          },
          "metadata": {
            "tags": []
          },
          "execution_count": 58
        },
        {
          "output_type": "display_data",
          "data": {
            "image/png": "[encoded data removed]",
            "text/plain": [
              "<Figure size 432x288 with 1 Axes>"
            ]
          },
          "metadata": {
            "tags": [],
            "needs_background": "light"
          }
        }
      ]
    },
    {
      "cell_type": "markdown",
      "metadata": {
        "id": "rWsNSYNrDOQV"
      },
      "source": [
        "## Preprocessing data [Normalization and Standardization]"
      ]
    },
    {
      "cell_type": "code",
      "metadata": {
        "id": "06_nWUilKhj4"
      },
      "source": [
        "import pandas as pd\n",
        "import matplotlib.pyplot as plt\n",
        "import numpy as np\n",
        "import warnings\n",
        "import tensorflow as tf\n",
        "from sklearn.model_selection import train_test_split\n",
        "warnings.filterwarnings('ignore')"
      ],
      "execution_count": 12,
      "outputs": []
    },
    {
      "cell_type": "code",
      "metadata": {
        "id": "LZb1z0QpKmZE"
      },
      "source": [
        "insurance = pd.read_csv(\"https://raw.githubusercontent.com/stedy/Machine-Learning-with-R-datasets/master/insurance.csv\")"
      ],
      "execution_count": 2,
      "outputs": []
    },
    {
      "cell_type": "code",
      "metadata": {
        "id": "zdRxpf0onxZf",
        "colab": {
          "base_uri": "https://localhost:8080/",
          "height": 204
        },
        "outputId": "1a03f0b2-d608-4c3e-cbf2-ca645584e6b3"
      },
      "source": [
        "insurance.head()"
      ],
      "execution_count": 4,
      "outputs": [
        {
          "output_type": "execute_result",
          "data": {
            "text/html": [
              "<div>\n",
              "<style scoped>\n",
              "    .dataframe tbody tr th:only-of-type {\n",
              "        vertical-align: middle;\n",
              "    }\n",
              "\n",
              "    .dataframe tbody tr th {\n",
              "        vertical-align: top;\n",
              "    }\n",
              "\n",
              "    .dataframe thead th {\n",
              "        text-align: right;\n",
              "    }\n",
              "</style>\n",
              "<table border=\"1\" class=\"dataframe\">\n",
              "  <thead>\n",
              "    <tr style=\"text-align: right;\">\n",
              "      <th></th>\n",
              "      <th>age</th>\n",
              "      <th>sex</th>\n",
              "      <th>bmi</th>\n",
              "      <th>children</th>\n",
              "      <th>smoker</th>\n",
              "      <th>region</th>\n",
              "      <th>charges</th>\n",
              "    </tr>\n",
              "  </thead>\n",
              "  <tbody>\n",
              "    <tr>\n",
              "      <th>0</th>\n",
              "      <td>19</td>\n",
              "      <td>female</td>\n",
              "      <td>27.900</td>\n",
              "      <td>0</td>\n",
              "      <td>yes</td>\n",
              "      <td>southwest</td>\n",
              "      <td>16884.92400</td>\n",
              "    </tr>\n",
              "    <tr>\n",
              "      <th>1</th>\n",
              "      <td>18</td>\n",
              "      <td>male</td>\n",
              "      <td>33.770</td>\n",
              "      <td>1</td>\n",
              "      <td>no</td>\n",
              "      <td>southeast</td>\n",
              "      <td>1725.55230</td>\n",
              "    </tr>\n",
              "    <tr>\n",
              "      <th>2</th>\n",
              "      <td>28</td>\n",
              "      <td>male</td>\n",
              "      <td>33.000</td>\n",
              "      <td>3</td>\n",
              "      <td>no</td>\n",
              "      <td>southeast</td>\n",
              "      <td>4449.46200</td>\n",
              "    </tr>\n",
              "    <tr>\n",
              "      <th>3</th>\n",
              "      <td>33</td>\n",
              "      <td>male</td>\n",
              "      <td>22.705</td>\n",
              "      <td>0</td>\n",
              "      <td>no</td>\n",
              "      <td>northwest</td>\n",
              "      <td>21984.47061</td>\n",
              "    </tr>\n",
              "    <tr>\n",
              "      <th>4</th>\n",
              "      <td>32</td>\n",
              "      <td>male</td>\n",
              "      <td>28.880</td>\n",
              "      <td>0</td>\n",
              "      <td>no</td>\n",
              "      <td>northwest</td>\n",
              "      <td>3866.85520</td>\n",
              "    </tr>\n",
              "  </tbody>\n",
              "</table>\n",
              "</div>"
            ],
            "text/plain": [
              "   age     sex     bmi  children smoker     region      charges\n",
              "0   19  female  27.900         0    yes  southwest  16884.92400\n",
              "1   18    male  33.770         1     no  southeast   1725.55230\n",
              "2   28    male  33.000         3     no  southeast   4449.46200\n",
              "3   33    male  22.705         0     no  northwest  21984.47061\n",
              "4   32    male  28.880         0     no  northwest   3866.85520"
            ]
          },
          "metadata": {
            "tags": []
          },
          "execution_count": 4
        }
      ]
    },
    {
      "cell_type": "code",
      "metadata": {
        "id": "XTcX85GDIK8M"
      },
      "source": [
        "from sklearn.compose import make_column_transformer\n",
        "from sklearn.preprocessing import MinMaxScaler,OneHotEncoder\n",
        "\n",
        "# Create column transformer\n",
        "ct = make_column_transformer (\n",
        "    (MinMaxScaler(),['age','bmi','children']),\n",
        "    (OneHotEncoder(handle_unknown='ignore'), ['sex','smoker','region'])\n",
        ")\n",
        "\n",
        "# Create X and y values\n",
        "X = insurance.drop('charges',axis=1)\n",
        "y = insurance['charges']"
      ],
      "execution_count": 9,
      "outputs": []
    },
    {
      "cell_type": "code",
      "metadata": {
        "id": "3WsF4P7bIQFn"
      },
      "source": [
        "# Build train and test set\n",
        "X_train,X_test,y_train,y_test = train_test_split(X,y,random_state=42,test_size=0.2)\n",
        "\n",
        "\n",
        "#Fit the columns transformer to our training data\n",
        "ct.fit(X_train)\n",
        "\n",
        "# Transform training and  test data with normalization (MinMaxScalar) and OneHotEncoder\n",
        "X_train_normal = ct.transform(X_train)\n",
        "X_test_normal = ct.transform(X_test)"
      ],
      "execution_count": 10,
      "outputs": []
    },
    {
      "cell_type": "code",
      "metadata": {
        "colab": {
          "base_uri": "https://localhost:8080/"
        },
        "id": "L5hYFZl4JolI",
        "outputId": "6b12ec03-1036-4edd-cae3-93ce8705b3fa"
      },
      "source": [
        "# Build a neural network model to fit on our normalized data\n",
        "tf.random.set_seed(42)\n",
        "\n",
        "# 1. create a model \n",
        "insurance_model =  tf.keras.Sequential([\n",
        "    tf.keras.layers.Dense(100,activation='relu'),\n",
        "    tf.keras.layers.Dense(100,activation='relu'),\n",
        "    tf.keras.layers.Dense(1)]\n",
        ")\n",
        "\n",
        "# 2. compile the model\n",
        "insurance_model.compile(loss=tf.keras.losses.mae,\n",
        "                        optimizer=tf.keras.optimizers.Adam(learning_rate=0.01),\n",
        "                        metrics=['mae'])\n",
        "\n",
        "# 3. Fit the model\n",
        "insurance_model.fit(X_train_normal,y_train,epochs=100,verbose=1)"
      ],
      "execution_count": 16,
      "outputs": [
        {
          "output_type": "stream",
          "text": [
            "Epoch 1/100\n",
            "34/34 [==============================] - 0s 2ms/step - loss: 13054.3789 - mae: 13054.3789\n",
            "Epoch 2/100\n",
            "34/34 [==============================] - 0s 2ms/step - loss: 9219.5547 - mae: 9219.5547\n",
            "Epoch 3/100\n",
            "34/34 [==============================] - 0s 2ms/step - loss: 7614.8086 - mae: 7614.8086\n",
            "Epoch 4/100\n",
            "34/34 [==============================] - 0s 2ms/step - loss: 6733.3765 - mae: 6733.3765\n",
            "Epoch 5/100\n",
            "34/34 [==============================] - 0s 2ms/step - loss: 5401.8784 - mae: 5401.8784\n",
            "Epoch 6/100\n",
            "34/34 [==============================] - 0s 2ms/step - loss: 4037.2136 - mae: 4037.2136\n",
            "Epoch 7/100\n",
            "34/34 [==============================] - 0s 2ms/step - loss: 3598.4866 - mae: 3598.4866\n",
            "Epoch 8/100\n",
            "34/34 [==============================] - 0s 2ms/step - loss: 3457.5806 - mae: 3457.5806\n",
            "Epoch 9/100\n",
            "34/34 [==============================] - 0s 2ms/step - loss: 3376.8872 - mae: 3376.8872\n",
            "Epoch 10/100\n",
            "34/34 [==============================] - 0s 2ms/step - loss: 3314.9265 - mae: 3314.9265\n",
            "Epoch 11/100\n",
            "34/34 [==============================] - 0s 2ms/step - loss: 3242.0569 - mae: 3242.0569\n",
            "Epoch 12/100\n",
            "34/34 [==============================] - 0s 2ms/step - loss: 3224.1230 - mae: 3224.1230\n",
            "Epoch 13/100\n",
            "34/34 [==============================] - 0s 2ms/step - loss: 3220.5222 - mae: 3220.5222\n",
            "Epoch 14/100\n",
            "34/34 [==============================] - 0s 2ms/step - loss: 3231.6592 - mae: 3231.6592\n",
            "Epoch 15/100\n",
            "34/34 [==============================] - 0s 2ms/step - loss: 3219.0349 - mae: 3219.0349\n",
            "Epoch 16/100\n",
            "34/34 [==============================] - 0s 2ms/step - loss: 3217.9031 - mae: 3217.9031\n",
            "Epoch 17/100\n",
            "34/34 [==============================] - 0s 2ms/step - loss: 3210.5745 - mae: 3210.5745\n",
            "Epoch 18/100\n",
            "34/34 [==============================] - 0s 2ms/step - loss: 3198.7092 - mae: 3198.7092\n",
            "Epoch 19/100\n",
            "34/34 [==============================] - 0s 2ms/step - loss: 3195.0515 - mae: 3195.0515\n",
            "Epoch 20/100\n",
            "34/34 [==============================] - 0s 2ms/step - loss: 3195.1448 - mae: 3195.1448\n",
            "Epoch 21/100\n",
            "34/34 [==============================] - 0s 2ms/step - loss: 3180.4343 - mae: 3180.4343\n",
            "Epoch 22/100\n",
            "34/34 [==============================] - 0s 2ms/step - loss: 3183.8494 - mae: 3183.8494\n",
            "Epoch 23/100\n",
            "34/34 [==============================] - 0s 2ms/step - loss: 3171.5742 - mae: 3171.5742\n",
            "Epoch 24/100\n",
            "34/34 [==============================] - 0s 2ms/step - loss: 3147.4863 - mae: 3147.4863\n",
            "Epoch 25/100\n",
            "34/34 [==============================] - 0s 2ms/step - loss: 3163.3057 - mae: 3163.3057\n",
            "Epoch 26/100\n",
            "34/34 [==============================] - 0s 2ms/step - loss: 3133.4023 - mae: 3133.4023\n",
            "Epoch 27/100\n",
            "34/34 [==============================] - 0s 2ms/step - loss: 3157.6433 - mae: 3157.6433\n",
            "Epoch 28/100\n",
            "34/34 [==============================] - 0s 2ms/step - loss: 3115.6929 - mae: 3115.6929\n",
            "Epoch 29/100\n",
            "34/34 [==============================] - 0s 2ms/step - loss: 3100.6084 - mae: 3100.6084\n",
            "Epoch 30/100\n",
            "34/34 [==============================] - 0s 2ms/step - loss: 3071.5427 - mae: 3071.5427\n",
            "Epoch 31/100\n",
            "34/34 [==============================] - 0s 2ms/step - loss: 3059.7388 - mae: 3059.7388\n",
            "Epoch 32/100\n",
            "34/34 [==============================] - 0s 2ms/step - loss: 3043.7095 - mae: 3043.7095\n",
            "Epoch 33/100\n",
            "34/34 [==============================] - 0s 2ms/step - loss: 3021.7993 - mae: 3021.7993\n",
            "Epoch 34/100\n",
            "34/34 [==============================] - 0s 2ms/step - loss: 3008.2688 - mae: 3008.2688\n",
            "Epoch 35/100\n",
            "34/34 [==============================] - 0s 2ms/step - loss: 2980.5657 - mae: 2980.5657\n",
            "Epoch 36/100\n",
            "34/34 [==============================] - 0s 2ms/step - loss: 2950.4453 - mae: 2950.4453\n",
            "Epoch 37/100\n",
            "34/34 [==============================] - 0s 2ms/step - loss: 2926.2371 - mae: 2926.2371\n",
            "Epoch 38/100\n",
            "34/34 [==============================] - 0s 2ms/step - loss: 2902.4192 - mae: 2902.4192\n",
            "Epoch 39/100\n",
            "34/34 [==============================] - 0s 2ms/step - loss: 2881.7954 - mae: 2881.7954\n",
            "Epoch 40/100\n",
            "34/34 [==============================] - 0s 2ms/step - loss: 2869.0342 - mae: 2869.0342\n",
            "Epoch 41/100\n",
            "34/34 [==============================] - 0s 2ms/step - loss: 2853.4800 - mae: 2853.4800\n",
            "Epoch 42/100\n",
            "34/34 [==============================] - 0s 2ms/step - loss: 2819.3135 - mae: 2819.3135\n",
            "Epoch 43/100\n",
            "34/34 [==============================] - 0s 2ms/step - loss: 2814.8010 - mae: 2814.8010\n",
            "Epoch 44/100\n",
            "34/34 [==============================] - 0s 2ms/step - loss: 2745.1213 - mae: 2745.1213\n",
            "Epoch 45/100\n",
            "34/34 [==============================] - 0s 2ms/step - loss: 2709.0859 - mae: 2709.0859\n",
            "Epoch 46/100\n",
            "34/34 [==============================] - 0s 2ms/step - loss: 2692.6265 - mae: 2692.6265\n",
            "Epoch 47/100\n",
            "34/34 [==============================] - 0s 2ms/step - loss: 2656.2368 - mae: 2656.2368\n",
            "Epoch 48/100\n",
            "34/34 [==============================] - 0s 2ms/step - loss: 2627.9170 - mae: 2627.9170\n",
            "Epoch 49/100\n",
            "34/34 [==============================] - 0s 2ms/step - loss: 2597.0205 - mae: 2597.0205\n",
            "Epoch 50/100\n",
            "34/34 [==============================] - 0s 2ms/step - loss: 2548.5691 - mae: 2548.5691\n",
            "Epoch 51/100\n",
            "34/34 [==============================] - 0s 2ms/step - loss: 2514.8030 - mae: 2514.8030\n",
            "Epoch 52/100\n",
            "34/34 [==============================] - 0s 2ms/step - loss: 2469.0007 - mae: 2469.0007\n",
            "Epoch 53/100\n",
            "34/34 [==============================] - 0s 2ms/step - loss: 2441.9084 - mae: 2441.9084\n",
            "Epoch 54/100\n",
            "34/34 [==============================] - 0s 2ms/step - loss: 2429.3069 - mae: 2429.3069\n",
            "Epoch 55/100\n",
            "34/34 [==============================] - 0s 2ms/step - loss: 2428.8562 - mae: 2428.8562\n",
            "Epoch 56/100\n",
            "34/34 [==============================] - 0s 2ms/step - loss: 2391.9373 - mae: 2391.9373\n",
            "Epoch 57/100\n",
            "34/34 [==============================] - 0s 2ms/step - loss: 2360.2563 - mae: 2360.2563\n",
            "Epoch 58/100\n",
            "34/34 [==============================] - 0s 2ms/step - loss: 2337.6177 - mae: 2337.6177\n",
            "Epoch 59/100\n",
            "34/34 [==============================] - 0s 2ms/step - loss: 2289.6709 - mae: 2289.6709\n",
            "Epoch 60/100\n",
            "34/34 [==============================] - 0s 2ms/step - loss: 2287.4219 - mae: 2287.4219\n",
            "Epoch 61/100\n",
            "34/34 [==============================] - 0s 2ms/step - loss: 2268.3772 - mae: 2268.3772\n",
            "Epoch 62/100\n",
            "34/34 [==============================] - 0s 2ms/step - loss: 2246.8516 - mae: 2246.8516\n",
            "Epoch 63/100\n",
            "34/34 [==============================] - 0s 2ms/step - loss: 2246.0698 - mae: 2246.0698\n",
            "Epoch 64/100\n",
            "34/34 [==============================] - 0s 2ms/step - loss: 2204.6228 - mae: 2204.6228\n",
            "Epoch 65/100\n",
            "34/34 [==============================] - 0s 2ms/step - loss: 2187.4102 - mae: 2187.4102\n",
            "Epoch 66/100\n",
            "34/34 [==============================] - 0s 2ms/step - loss: 2164.9800 - mae: 2164.9800\n",
            "Epoch 67/100\n",
            "34/34 [==============================] - 0s 2ms/step - loss: 2152.1418 - mae: 2152.1418\n",
            "Epoch 68/100\n",
            "34/34 [==============================] - 0s 2ms/step - loss: 2158.1292 - mae: 2158.1292\n",
            "Epoch 69/100\n",
            "34/34 [==============================] - 0s 2ms/step - loss: 2116.5935 - mae: 2116.5935\n",
            "Epoch 70/100\n",
            "34/34 [==============================] - 0s 2ms/step - loss: 2127.0569 - mae: 2127.0569\n",
            "Epoch 71/100\n",
            "34/34 [==============================] - 0s 2ms/step - loss: 2086.8799 - mae: 2086.8799\n",
            "Epoch 72/100\n",
            "34/34 [==============================] - 0s 2ms/step - loss: 2081.8318 - mae: 2081.8318\n",
            "Epoch 73/100\n",
            "34/34 [==============================] - 0s 2ms/step - loss: 2110.6780 - mae: 2110.6780\n",
            "Epoch 74/100\n",
            "34/34 [==============================] - 0s 2ms/step - loss: 2056.5251 - mae: 2056.5251\n",
            "Epoch 75/100\n",
            "34/34 [==============================] - 0s 2ms/step - loss: 2062.6584 - mae: 2062.6584\n",
            "Epoch 76/100\n",
            "34/34 [==============================] - 0s 2ms/step - loss: 2047.8878 - mae: 2047.8878\n",
            "Epoch 77/100\n",
            "34/34 [==============================] - 0s 2ms/step - loss: 2040.7360 - mae: 2040.7360\n",
            "Epoch 78/100\n",
            "34/34 [==============================] - 0s 2ms/step - loss: 2035.5887 - mae: 2035.5887\n",
            "Epoch 79/100\n",
            "34/34 [==============================] - 0s 2ms/step - loss: 2054.2083 - mae: 2054.2083\n",
            "Epoch 80/100\n",
            "34/34 [==============================] - 0s 2ms/step - loss: 2052.7146 - mae: 2052.7146\n",
            "Epoch 81/100\n",
            "34/34 [==============================] - 0s 2ms/step - loss: 2050.9028 - mae: 2050.9028\n",
            "Epoch 82/100\n",
            "34/34 [==============================] - 0s 2ms/step - loss: 2026.3951 - mae: 2026.3951\n",
            "Epoch 83/100\n",
            "34/34 [==============================] - 0s 2ms/step - loss: 2023.1672 - mae: 2023.1672\n",
            "Epoch 84/100\n",
            "34/34 [==============================] - 0s 2ms/step - loss: 2020.1271 - mae: 2020.1271\n",
            "Epoch 85/100\n",
            "34/34 [==============================] - 0s 2ms/step - loss: 2028.7313 - mae: 2028.7313\n",
            "Epoch 86/100\n",
            "34/34 [==============================] - 0s 2ms/step - loss: 2012.5568 - mae: 2012.5568\n",
            "Epoch 87/100\n",
            "34/34 [==============================] - 0s 2ms/step - loss: 2043.0634 - mae: 2043.0634\n",
            "Epoch 88/100\n",
            "34/34 [==============================] - 0s 2ms/step - loss: 2031.9336 - mae: 2031.9336\n",
            "Epoch 89/100\n",
            "34/34 [==============================] - 0s 2ms/step - loss: 2032.6332 - mae: 2032.6332\n",
            "Epoch 90/100\n",
            "34/34 [==============================] - 0s 2ms/step - loss: 2021.0811 - mae: 2021.0811\n",
            "Epoch 91/100\n",
            "34/34 [==============================] - 0s 2ms/step - loss: 2013.6580 - mae: 2013.6580\n",
            "Epoch 92/100\n",
            "34/34 [==============================] - 0s 2ms/step - loss: 2027.1079 - mae: 2027.1079\n",
            "Epoch 93/100\n",
            "34/34 [==============================] - 0s 2ms/step - loss: 2044.6633 - mae: 2044.6633\n",
            "Epoch 94/100\n",
            "34/34 [==============================] - 0s 2ms/step - loss: 2022.6255 - mae: 2022.6255\n",
            "Epoch 95/100\n",
            "34/34 [==============================] - 0s 2ms/step - loss: 1994.9453 - mae: 1994.9453\n",
            "Epoch 96/100\n",
            "34/34 [==============================] - 0s 2ms/step - loss: 2012.0339 - mae: 2012.0339\n",
            "Epoch 97/100\n",
            "34/34 [==============================] - 0s 2ms/step - loss: 2033.8271 - mae: 2033.8271\n",
            "Epoch 98/100\n",
            "34/34 [==============================] - 0s 2ms/step - loss: 2031.4773 - mae: 2031.4773\n",
            "Epoch 99/100\n",
            "34/34 [==============================] - 0s 2ms/step - loss: 1996.8438 - mae: 1996.8438\n",
            "Epoch 100/100\n",
            "34/34 [==============================] - 0s 2ms/step - loss: 1994.3138 - mae: 1994.3138\n"
          ],
          "name": "stdout"
        },
        {
          "output_type": "execute_result",
          "data": {
            "text/plain": [
              "<tensorflow.python.keras.callbacks.History at 0x7f55e2142450>"
            ]
          },
          "metadata": {
            "tags": []
          },
          "execution_count": 16
        }
      ]
    },
    {
      "cell_type": "code",
      "metadata": {
        "colab": {
          "base_uri": "https://localhost:8080/"
        },
        "id": "3rk1Nw9hSYtO",
        "outputId": "5bbf7cac-7487-4ad7-c4ef-d1ab516079f4"
      },
      "source": [
        "insurance_model.evaluate(X_test_normal,y_test)"
      ],
      "execution_count": 17,
      "outputs": [
        {
          "output_type": "stream",
          "text": [
            "9/9 [==============================] - 0s 2ms/step - loss: 1742.9170 - mae: 1742.9170\n"
          ],
          "name": "stdout"
        },
        {
          "output_type": "execute_result",
          "data": {
            "text/plain": [
              "[1742.9169921875, 1742.9169921875]"
            ]
          },
          "metadata": {
            "tags": []
          },
          "execution_count": 17
        }
      ]
    },
    {
      "cell_type": "code",
      "metadata": {
        "colab": {
          "base_uri": "https://localhost:8080/"
        },
        "id": "VGsxpgQZVuZC",
        "outputId": "faa8f612-196b-4a2b-a377-47f0dcf99f6a"
      },
      "source": [
        "insurance_model.summary()"
      ],
      "execution_count": 18,
      "outputs": [
        {
          "output_type": "stream",
          "text": [
            "Model: \"sequential_2\"\n",
            "_________________________________________________________________\n",
            "Layer (type)                 Output Shape              Param #   \n",
            "=================================================================\n",
            "dense_6 (Dense)              (None, 100)               1200      \n",
            "_________________________________________________________________\n",
            "dense_7 (Dense)              (None, 100)               10100     \n",
            "_________________________________________________________________\n",
            "dense_8 (Dense)              (None, 1)                 101       \n",
            "=================================================================\n",
            "Total params: 11,401\n",
            "Trainable params: 11,401\n",
            "Non-trainable params: 0\n",
            "_________________________________________________________________\n"
          ],
          "name": "stdout"
        }
      ]
    },
    {
      "cell_type": "code",
      "metadata": {
        "id": "IKfb0DGHW-V7"
      },
      "source": [
        ""
      ],
      "execution_count": null,
      "outputs": []
    }
  ]
}